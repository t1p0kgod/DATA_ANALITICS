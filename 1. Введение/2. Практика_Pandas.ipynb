{
  "cells": [
    {
      "cell_type": "markdown",
      "metadata": {
        "colab_type": "text",
        "id": "view-in-github"
      },
      "source": [
        "<a href=\"https://colab.research.google.com/github/Alexandre77777/data_mining/blob/main/1.%20%D0%92%D0%B2%D0%B5%D0%B4%D0%B5%D0%BD%D0%B8%D0%B5/%D0%9F%D1%80%D0%B0%D0%BA%D1%82%D0%B8%D0%BA%D0%B0/2.%20%D0%9F%D1%80%D0%B0%D0%BA%D1%82%D0%B8%D0%BA%D0%B0_Pandas.ipynb\" target=\"_parent\"><img src=\"https://colab.research.google.com/assets/colab-badge.svg\" alt=\"Open In Colab\"/></a>"
      ]
    },
    {
      "cell_type": "markdown",
      "metadata": {
        "id": "mp4vDzkuiDX_"
      },
      "source": [
        "## Практика Pandas\n",
        "\n",
        "1. Скачайте этот блокнот к себе.\n",
        "2. Заполните пропущенные ячейки, отвечая на заданные вопросы. Там должен быть код! (если не сказано обратное)\n",
        "3. Сохраните результат в своём гитхаб репозитории.\n",
        "\n",
        "#### Полезная литература\n",
        "- [**Блокнот с теорией**](https://colab.research.google.com/github/Alexandre77777/data_mining/blob/main/1.%20%D0%92%D0%B2%D0%B5%D0%B4%D0%B5%D0%BD%D0%B8%D0%B5/%D0%A2%D0%B5%D0%BE%D1%80%D0%B8%D1%8F/2.%20%D0%A2%D0%B5%D0%BE%D1%80%D0%B8%D1%8F_Pandas.ipynb)\n",
        "- http://pandas.pydata.org/pandas-docs/stable/10min.html\n",
        "- https://pandas.pydata.org/pandas-docs/stable/indexing.html\n",
        "- https://pandas.pydata.org/pandas-docs/stable/missing_data.html"
      ]
    },
    {
      "cell_type": "markdown",
      "metadata": {
        "id": "tuRd3IMoiDYB"
      },
      "source": [
        "В этом задании мы с вами рассмотрим датасет [Adult Data Set](https://archive.ics.uci.edu/ml/datasets/Adult).\n",
        "Основывается он на данных переписи населения 1994 года в США.\n",
        "\n",
        "Расшифровка содержимого колонок:\n",
        "\n",
        "- age: continuous.\n",
        "- workclass: Private, Self-emp-not-inc, Self-emp-inc, Federal-gov, Local-gov, State-gov, Without-pay, Never-worked.\n",
        "- fnlwgt: continuous. sampling weight, more here: SIPP Weighting.\n",
        "- education: Bachelors, Some-college, 11th, HS-grad, Prof-school, Assoc-acdm, Assoc-voc, 9th, 7th-8th, 12th, Masters, 1st-4th, 10th, Doctorate, 5th-6th, Preschool.\n",
        "- education-num: continuous.\n",
        "- marital-status: Married-civ-spouse, Divorced, Never-married, Separated, Widowed, Married-spouse-absent, Married-AF-spouse.\n",
        "- occupation: Tech-support, Craft-repair, Other-service, Sales, Exec-managerial, Prof-specialty, Handlers-cleaners, Machine-op-inspct, Adm-clerical, Farming-fishing, Transport-moving, Priv-house-serv, Protective-serv, Armed-Forces.\n",
        "- relationship: Wife, Own-child, Husband, Not-in-family, Other-relative, Unmarried.\n",
        "- race: White, Asian-Pac-Islander, Amer-Indian-Eskimo, Other, Black.\n",
        "- sex: Female, Male.\n",
        "- capital-gain: continuous. Income from investment sources, apart from wages/salary.\n",
        "- capital-loss: continuous. Losses from investment sources, apart from wages/salary.\n",
        "- hours-per-week: continuous.\n",
        "- native-country: United-States, Cambodia, England, Puerto-Rico, Canada, Germany, Outlying-US(Guam-USVI-etc), India, Japan, Greece, South, China, Cuba, Iran, Honduras, Philippines, Italy, Poland, Jamaica, Vietnam, Mexico, Portugal, Ireland, France, Dominican-Republic, Laos, Ecuador, Taiwan, Haiti, Columbia, Hungary, Guatemala, Nicaragua, Scotland, Thailand, Yugoslavia, El-Salvador, Trinadad&Tobago, Peru, Hong, Holand-Netherlands."
      ]
    },
    {
      "cell_type": "code",
      "execution_count": 1,
      "metadata": {
        "colab": {
          "base_uri": "https://localhost:8080/",
          "height": 36
        },
        "id": "R5NUf9tUiDYC",
        "outputId": "72640591-850a-4a86-d1fb-99a1b6000a84"
      },
      "outputs": [
        {
          "data": {
            "text/plain": [
              "'2.1.1'"
            ]
          },
          "execution_count": 1,
          "metadata": {},
          "output_type": "execute_result"
        }
      ],
      "source": [
        "%matplotlib inline\n",
        "import pandas as pd\n",
        "pd.__version__"
      ]
    },
    {
      "cell_type": "code",
      "execution_count": 2,
      "metadata": {},
      "outputs": [],
      "source": [
        "import numpy as np"
      ]
    },
    {
      "cell_type": "markdown",
      "metadata": {
        "id": "QOWEafWciDYE"
      },
      "source": [
        "Если вы увидели warning, не переживайте, всё хорошо.\n",
        "- https://stackoverflow.com/questions/40845304/runtimewarning-numpy-dtype-size-changed-may-indicate-binary-incompatibility\n",
        "- https://github.com/numpy/numpy/pull/432"
      ]
    },
    {
      "cell_type": "code",
      "execution_count": 68,
      "metadata": {
        "colab": {
          "base_uri": "https://localhost:8080/",
          "height": 206
        },
        "id": "BCu7XGx_iDYE",
        "outputId": "f4e57015-2e2f-4a36-a9e3-9207cab7b732"
      },
      "outputs": [
        {
          "data": {
            "text/html": [
              "<div>\n",
              "<style scoped>\n",
              "    .dataframe tbody tr th:only-of-type {\n",
              "        vertical-align: middle;\n",
              "    }\n",
              "\n",
              "    .dataframe tbody tr th {\n",
              "        vertical-align: top;\n",
              "    }\n",
              "\n",
              "    .dataframe thead th {\n",
              "        text-align: right;\n",
              "    }\n",
              "</style>\n",
              "<table border=\"1\" class=\"dataframe\">\n",
              "  <thead>\n",
              "    <tr style=\"text-align: right;\">\n",
              "      <th></th>\n",
              "      <th>age</th>\n",
              "      <th>workclass</th>\n",
              "      <th>fnlwgt</th>\n",
              "      <th>education</th>\n",
              "      <th>education.num</th>\n",
              "      <th>marital.status</th>\n",
              "      <th>occupation</th>\n",
              "      <th>relationship</th>\n",
              "      <th>race</th>\n",
              "      <th>sex</th>\n",
              "      <th>capital.gain</th>\n",
              "      <th>capital.loss</th>\n",
              "      <th>hours.per.week</th>\n",
              "      <th>native.country</th>\n",
              "      <th>income</th>\n",
              "    </tr>\n",
              "  </thead>\n",
              "  <tbody>\n",
              "    <tr>\n",
              "      <th>0</th>\n",
              "      <td>39</td>\n",
              "      <td>State-gov</td>\n",
              "      <td>77516</td>\n",
              "      <td>Bachelors</td>\n",
              "      <td>13</td>\n",
              "      <td>Never-married</td>\n",
              "      <td>Adm-clerical</td>\n",
              "      <td>Not-in-family</td>\n",
              "      <td>White</td>\n",
              "      <td>Male</td>\n",
              "      <td>2174</td>\n",
              "      <td>0</td>\n",
              "      <td>40</td>\n",
              "      <td>United-States</td>\n",
              "      <td>&lt;=50K</td>\n",
              "    </tr>\n",
              "    <tr>\n",
              "      <th>1</th>\n",
              "      <td>50</td>\n",
              "      <td>Self-emp-not-inc</td>\n",
              "      <td>83311</td>\n",
              "      <td>Bachelors</td>\n",
              "      <td>13</td>\n",
              "      <td>Married-civ-spouse</td>\n",
              "      <td>Exec-managerial</td>\n",
              "      <td>Husband</td>\n",
              "      <td>White</td>\n",
              "      <td>Male</td>\n",
              "      <td>0</td>\n",
              "      <td>0</td>\n",
              "      <td>13</td>\n",
              "      <td>United-States</td>\n",
              "      <td>&lt;=50K</td>\n",
              "    </tr>\n",
              "    <tr>\n",
              "      <th>2</th>\n",
              "      <td>38</td>\n",
              "      <td>Private</td>\n",
              "      <td>215646</td>\n",
              "      <td>HS-grad</td>\n",
              "      <td>9</td>\n",
              "      <td>Divorced</td>\n",
              "      <td>Handlers-cleaners</td>\n",
              "      <td>Not-in-family</td>\n",
              "      <td>White</td>\n",
              "      <td>Male</td>\n",
              "      <td>0</td>\n",
              "      <td>0</td>\n",
              "      <td>40</td>\n",
              "      <td>United-States</td>\n",
              "      <td>&lt;=50K</td>\n",
              "    </tr>\n",
              "    <tr>\n",
              "      <th>3</th>\n",
              "      <td>53</td>\n",
              "      <td>Private</td>\n",
              "      <td>234721</td>\n",
              "      <td>11th</td>\n",
              "      <td>7</td>\n",
              "      <td>Married-civ-spouse</td>\n",
              "      <td>Handlers-cleaners</td>\n",
              "      <td>Husband</td>\n",
              "      <td>Black</td>\n",
              "      <td>Male</td>\n",
              "      <td>0</td>\n",
              "      <td>0</td>\n",
              "      <td>40</td>\n",
              "      <td>United-States</td>\n",
              "      <td>&lt;=50K</td>\n",
              "    </tr>\n",
              "    <tr>\n",
              "      <th>4</th>\n",
              "      <td>28</td>\n",
              "      <td>Private</td>\n",
              "      <td>338409</td>\n",
              "      <td>Bachelors</td>\n",
              "      <td>13</td>\n",
              "      <td>Married-civ-spouse</td>\n",
              "      <td>Prof-specialty</td>\n",
              "      <td>Wife</td>\n",
              "      <td>Black</td>\n",
              "      <td>Female</td>\n",
              "      <td>0</td>\n",
              "      <td>0</td>\n",
              "      <td>40</td>\n",
              "      <td>Cuba</td>\n",
              "      <td>&lt;=50K</td>\n",
              "    </tr>\n",
              "  </tbody>\n",
              "</table>\n",
              "</div>"
            ],
            "text/plain": [
              "   age          workclass  fnlwgt   education  education.num  \\\n",
              "0   39          State-gov   77516   Bachelors             13   \n",
              "1   50   Self-emp-not-inc   83311   Bachelors             13   \n",
              "2   38            Private  215646     HS-grad              9   \n",
              "3   53            Private  234721        11th              7   \n",
              "4   28            Private  338409   Bachelors             13   \n",
              "\n",
              "        marital.status          occupation    relationship    race      sex  \\\n",
              "0        Never-married        Adm-clerical   Not-in-family   White     Male   \n",
              "1   Married-civ-spouse     Exec-managerial         Husband   White     Male   \n",
              "2             Divorced   Handlers-cleaners   Not-in-family   White     Male   \n",
              "3   Married-civ-spouse   Handlers-cleaners         Husband   Black     Male   \n",
              "4   Married-civ-spouse      Prof-specialty            Wife   Black   Female   \n",
              "\n",
              "   capital.gain  capital.loss  hours.per.week  native.country  income  \n",
              "0          2174             0              40   United-States   <=50K  \n",
              "1             0             0              13   United-States   <=50K  \n",
              "2             0             0              40   United-States   <=50K  \n",
              "3             0             0              40   United-States   <=50K  \n",
              "4             0             0              40            Cuba   <=50K  "
            ]
          },
          "execution_count": 68,
          "metadata": {},
          "output_type": "execute_result"
        }
      ],
      "source": [
        "columns='age,workclass,fnlwgt,education,education.num,marital.status,occupation,relationship,race,sex,capital.gain,capital.loss,hours.per.week,native.country,income'.split(',')\n",
        "# df = pd.read_csv('../../data/adult.csv.gz', na_values='?') # можно загрузить из файла или URL\n",
        "df = pd.read_csv('https://archive.ics.uci.edu/ml/machine-learning-databases/adult/adult.data', na_values=' ?', names=columns)\n",
        "df.head()"
      ]
    },
    {
      "cell_type": "markdown",
      "metadata": {
        "id": "CBW15ofwiDYE"
      },
      "source": [
        "1) Выведите последние 10 элеметнов датасета"
      ]
    },
    {
      "cell_type": "code",
      "execution_count": 7,
      "metadata": {
        "id": "9ju_erEKiDYE"
      },
      "outputs": [
        {
          "data": {
            "text/html": [
              "<div>\n",
              "<style scoped>\n",
              "    .dataframe tbody tr th:only-of-type {\n",
              "        vertical-align: middle;\n",
              "    }\n",
              "\n",
              "    .dataframe tbody tr th {\n",
              "        vertical-align: top;\n",
              "    }\n",
              "\n",
              "    .dataframe thead th {\n",
              "        text-align: right;\n",
              "    }\n",
              "</style>\n",
              "<table border=\"1\" class=\"dataframe\">\n",
              "  <thead>\n",
              "    <tr style=\"text-align: right;\">\n",
              "      <th></th>\n",
              "      <th>age</th>\n",
              "      <th>workclass</th>\n",
              "      <th>fnlwgt</th>\n",
              "      <th>education</th>\n",
              "      <th>education.num</th>\n",
              "      <th>marital.status</th>\n",
              "      <th>occupation</th>\n",
              "      <th>relationship</th>\n",
              "      <th>race</th>\n",
              "      <th>sex</th>\n",
              "      <th>capital.gain</th>\n",
              "      <th>capital.loss</th>\n",
              "      <th>hours.per.week</th>\n",
              "      <th>native.country</th>\n",
              "      <th>income</th>\n",
              "    </tr>\n",
              "  </thead>\n",
              "  <tbody>\n",
              "    <tr>\n",
              "      <th>0</th>\n",
              "      <td>39</td>\n",
              "      <td>State-gov</td>\n",
              "      <td>77516</td>\n",
              "      <td>Bachelors</td>\n",
              "      <td>13</td>\n",
              "      <td>Never-married</td>\n",
              "      <td>Adm-clerical</td>\n",
              "      <td>Not-in-family</td>\n",
              "      <td>White</td>\n",
              "      <td>Male</td>\n",
              "      <td>2174</td>\n",
              "      <td>0</td>\n",
              "      <td>40</td>\n",
              "      <td>United-States</td>\n",
              "      <td>&lt;=50K</td>\n",
              "    </tr>\n",
              "    <tr>\n",
              "      <th>1</th>\n",
              "      <td>50</td>\n",
              "      <td>Self-emp-not-inc</td>\n",
              "      <td>83311</td>\n",
              "      <td>Bachelors</td>\n",
              "      <td>13</td>\n",
              "      <td>Married-civ-spouse</td>\n",
              "      <td>Exec-managerial</td>\n",
              "      <td>Husband</td>\n",
              "      <td>White</td>\n",
              "      <td>Male</td>\n",
              "      <td>0</td>\n",
              "      <td>0</td>\n",
              "      <td>13</td>\n",
              "      <td>United-States</td>\n",
              "      <td>&lt;=50K</td>\n",
              "    </tr>\n",
              "    <tr>\n",
              "      <th>2</th>\n",
              "      <td>38</td>\n",
              "      <td>Private</td>\n",
              "      <td>215646</td>\n",
              "      <td>HS-grad</td>\n",
              "      <td>9</td>\n",
              "      <td>Divorced</td>\n",
              "      <td>Handlers-cleaners</td>\n",
              "      <td>Not-in-family</td>\n",
              "      <td>White</td>\n",
              "      <td>Male</td>\n",
              "      <td>0</td>\n",
              "      <td>0</td>\n",
              "      <td>40</td>\n",
              "      <td>United-States</td>\n",
              "      <td>&lt;=50K</td>\n",
              "    </tr>\n",
              "    <tr>\n",
              "      <th>3</th>\n",
              "      <td>53</td>\n",
              "      <td>Private</td>\n",
              "      <td>234721</td>\n",
              "      <td>11th</td>\n",
              "      <td>7</td>\n",
              "      <td>Married-civ-spouse</td>\n",
              "      <td>Handlers-cleaners</td>\n",
              "      <td>Husband</td>\n",
              "      <td>Black</td>\n",
              "      <td>Male</td>\n",
              "      <td>0</td>\n",
              "      <td>0</td>\n",
              "      <td>40</td>\n",
              "      <td>United-States</td>\n",
              "      <td>&lt;=50K</td>\n",
              "    </tr>\n",
              "    <tr>\n",
              "      <th>4</th>\n",
              "      <td>28</td>\n",
              "      <td>Private</td>\n",
              "      <td>338409</td>\n",
              "      <td>Bachelors</td>\n",
              "      <td>13</td>\n",
              "      <td>Married-civ-spouse</td>\n",
              "      <td>Prof-specialty</td>\n",
              "      <td>Wife</td>\n",
              "      <td>Black</td>\n",
              "      <td>Female</td>\n",
              "      <td>0</td>\n",
              "      <td>0</td>\n",
              "      <td>40</td>\n",
              "      <td>Cuba</td>\n",
              "      <td>&lt;=50K</td>\n",
              "    </tr>\n",
              "    <tr>\n",
              "      <th>5</th>\n",
              "      <td>37</td>\n",
              "      <td>Private</td>\n",
              "      <td>284582</td>\n",
              "      <td>Masters</td>\n",
              "      <td>14</td>\n",
              "      <td>Married-civ-spouse</td>\n",
              "      <td>Exec-managerial</td>\n",
              "      <td>Wife</td>\n",
              "      <td>White</td>\n",
              "      <td>Female</td>\n",
              "      <td>0</td>\n",
              "      <td>0</td>\n",
              "      <td>40</td>\n",
              "      <td>United-States</td>\n",
              "      <td>&lt;=50K</td>\n",
              "    </tr>\n",
              "    <tr>\n",
              "      <th>6</th>\n",
              "      <td>49</td>\n",
              "      <td>Private</td>\n",
              "      <td>160187</td>\n",
              "      <td>9th</td>\n",
              "      <td>5</td>\n",
              "      <td>Married-spouse-absent</td>\n",
              "      <td>Other-service</td>\n",
              "      <td>Not-in-family</td>\n",
              "      <td>Black</td>\n",
              "      <td>Female</td>\n",
              "      <td>0</td>\n",
              "      <td>0</td>\n",
              "      <td>16</td>\n",
              "      <td>Jamaica</td>\n",
              "      <td>&lt;=50K</td>\n",
              "    </tr>\n",
              "    <tr>\n",
              "      <th>7</th>\n",
              "      <td>52</td>\n",
              "      <td>Self-emp-not-inc</td>\n",
              "      <td>209642</td>\n",
              "      <td>HS-grad</td>\n",
              "      <td>9</td>\n",
              "      <td>Married-civ-spouse</td>\n",
              "      <td>Exec-managerial</td>\n",
              "      <td>Husband</td>\n",
              "      <td>White</td>\n",
              "      <td>Male</td>\n",
              "      <td>0</td>\n",
              "      <td>0</td>\n",
              "      <td>45</td>\n",
              "      <td>United-States</td>\n",
              "      <td>&gt;50K</td>\n",
              "    </tr>\n",
              "    <tr>\n",
              "      <th>8</th>\n",
              "      <td>31</td>\n",
              "      <td>Private</td>\n",
              "      <td>45781</td>\n",
              "      <td>Masters</td>\n",
              "      <td>14</td>\n",
              "      <td>Never-married</td>\n",
              "      <td>Prof-specialty</td>\n",
              "      <td>Not-in-family</td>\n",
              "      <td>White</td>\n",
              "      <td>Female</td>\n",
              "      <td>14084</td>\n",
              "      <td>0</td>\n",
              "      <td>50</td>\n",
              "      <td>United-States</td>\n",
              "      <td>&gt;50K</td>\n",
              "    </tr>\n",
              "    <tr>\n",
              "      <th>9</th>\n",
              "      <td>42</td>\n",
              "      <td>Private</td>\n",
              "      <td>159449</td>\n",
              "      <td>Bachelors</td>\n",
              "      <td>13</td>\n",
              "      <td>Married-civ-spouse</td>\n",
              "      <td>Exec-managerial</td>\n",
              "      <td>Husband</td>\n",
              "      <td>White</td>\n",
              "      <td>Male</td>\n",
              "      <td>5178</td>\n",
              "      <td>0</td>\n",
              "      <td>40</td>\n",
              "      <td>United-States</td>\n",
              "      <td>&gt;50K</td>\n",
              "    </tr>\n",
              "  </tbody>\n",
              "</table>\n",
              "</div>"
            ],
            "text/plain": [
              "   age          workclass  fnlwgt   education  education.num  \\\n",
              "0   39          State-gov   77516   Bachelors             13   \n",
              "1   50   Self-emp-not-inc   83311   Bachelors             13   \n",
              "2   38            Private  215646     HS-grad              9   \n",
              "3   53            Private  234721        11th              7   \n",
              "4   28            Private  338409   Bachelors             13   \n",
              "5   37            Private  284582     Masters             14   \n",
              "6   49            Private  160187         9th              5   \n",
              "7   52   Self-emp-not-inc  209642     HS-grad              9   \n",
              "8   31            Private   45781     Masters             14   \n",
              "9   42            Private  159449   Bachelors             13   \n",
              "\n",
              "           marital.status          occupation    relationship    race  \\\n",
              "0           Never-married        Adm-clerical   Not-in-family   White   \n",
              "1      Married-civ-spouse     Exec-managerial         Husband   White   \n",
              "2                Divorced   Handlers-cleaners   Not-in-family   White   \n",
              "3      Married-civ-spouse   Handlers-cleaners         Husband   Black   \n",
              "4      Married-civ-spouse      Prof-specialty            Wife   Black   \n",
              "5      Married-civ-spouse     Exec-managerial            Wife   White   \n",
              "6   Married-spouse-absent       Other-service   Not-in-family   Black   \n",
              "7      Married-civ-spouse     Exec-managerial         Husband   White   \n",
              "8           Never-married      Prof-specialty   Not-in-family   White   \n",
              "9      Married-civ-spouse     Exec-managerial         Husband   White   \n",
              "\n",
              "       sex  capital.gain  capital.loss  hours.per.week  native.country  income  \n",
              "0     Male          2174             0              40   United-States   <=50K  \n",
              "1     Male             0             0              13   United-States   <=50K  \n",
              "2     Male             0             0              40   United-States   <=50K  \n",
              "3     Male             0             0              40   United-States   <=50K  \n",
              "4   Female             0             0              40            Cuba   <=50K  \n",
              "5   Female             0             0              40   United-States   <=50K  \n",
              "6   Female             0             0              16         Jamaica   <=50K  \n",
              "7     Male             0             0              45   United-States    >50K  \n",
              "8   Female         14084             0              50   United-States    >50K  \n",
              "9     Male          5178             0              40   United-States    >50K  "
            ]
          },
          "execution_count": 7,
          "metadata": {},
          "output_type": "execute_result"
        }
      ],
      "source": [
        "df.head(10)"
      ]
    },
    {
      "cell_type": "markdown",
      "metadata": {
        "id": "RDlLa_9giDYF"
      },
      "source": [
        "2) Сколько колонок и сколько строк в этом датасете?"
      ]
    },
    {
      "cell_type": "code",
      "execution_count": 8,
      "metadata": {
        "id": "Kf2WGv5EiDYF"
      },
      "outputs": [
        {
          "name": "stdout",
          "output_type": "stream",
          "text": [
            "Количество колонок: 15\n",
            "Количество строк: 32561\n"
          ]
        }
      ],
      "source": [
        "print(f'Количество колонок: {df.shape[1]}\\nКоличество строк: {df.shape[0]}')"
      ]
    },
    {
      "cell_type": "markdown",
      "metadata": {
        "id": "ZVCtU4j7iDYF"
      },
      "source": [
        "3) Какие типы данных у элементов этого датасета?"
      ]
    },
    {
      "cell_type": "code",
      "execution_count": 9,
      "metadata": {
        "id": "0vJss_heiDYF"
      },
      "outputs": [
        {
          "data": {
            "text/plain": [
              "age                int64\n",
              "workclass         object\n",
              "fnlwgt             int64\n",
              "education         object\n",
              "education.num      int64\n",
              "marital.status    object\n",
              "occupation        object\n",
              "relationship      object\n",
              "race              object\n",
              "sex               object\n",
              "capital.gain       int64\n",
              "capital.loss       int64\n",
              "hours.per.week     int64\n",
              "native.country    object\n",
              "income            object\n",
              "dtype: object"
            ]
          },
          "execution_count": 9,
          "metadata": {},
          "output_type": "execute_result"
        }
      ],
      "source": [
        "df.dtypes"
      ]
    },
    {
      "cell_type": "markdown",
      "metadata": {
        "id": "gf3aZgQgiDYF"
      },
      "source": [
        "4) Какие признаки имеют пропуски?"
      ]
    },
    {
      "cell_type": "markdown",
      "metadata": {},
      "source": [
        "Пропусками считаются следующие значения:\n",
        "- `NaN`\n",
        "- `None`"
      ]
    },
    {
      "cell_type": "markdown",
      "metadata": {
        "id": "pLGvRmmCiDYG"
      },
      "source": [
        "5) Как вы думаете, с чем связаны пропуски этих значение. Напишите развернутый ответ в ячейке ниже."
      ]
    },
    {
      "cell_type": "markdown",
      "metadata": {},
      "source": [
        "Ошибки могут позникать по многим причинам:\n",
        "- Сбор:\n",
        "    - Не были предусмотрены все пограничные условия. К примеру, при сборе данных о погоде не было предусмотрено хранение отрицательных значений температур. Или в случае с записью общего состояния за окном (ясно, облачно) не был предусмотрен вариант \"туман\". \n",
        "    - Изменились условия в процессе получения данных. Особенно в случае, если данные собираются в течение длительного промежутка времени. К примеру, в веб-сайте, с которого производится парсинг данных, незначительно поменялась разметка. Недостаточно сильно, чтобы парсер перестал работать, но достаточно для того, чтобы в собираемых данных начали встречаться ошибки;\n",
        "    - Аппаратно/программные ошибки в процессе сбора данныхю. Ошибки записи данных на постоянное хранилище. К примеру: в программе не было предусмотрено возникновение неполадок на железном уровне. В таком случае может произойти много чего: \n",
        "        - Программа не сможет вернуть прежнее состояние;\n",
        "        - Могут потеряться (или записаться с искажением) данные, запись которых производилась непосредственно в момент отключения компьютераж\n",
        "        - Проблемы сетевого характера (банально может отключиться интернет)\n",
        "- Обработка:\n",
        "    - Был выбран неподходящий тип данных для хранения значений. К примеру, не были предусмотрены все `enum` значения для описания поля. Или для записи чисел с плавающей запятой был использован `int`;\n",
        "    - Ошибка программиста при парсинге данных (если таковой требуется) - накосячили с regex-ом, xpath-ом и т.п...\n"
      ]
    },
    {
      "cell_type": "markdown",
      "metadata": {
        "id": "_qAh-O71iDYG"
      },
      "source": [
        "Ваш ответ:"
      ]
    },
    {
      "cell_type": "markdown",
      "metadata": {
        "id": "xCdUPrTjiDYG"
      },
      "source": [
        "6) Какие и сколько различных рабочих классов workclass представлено в выборке?"
      ]
    },
    {
      "cell_type": "code",
      "execution_count": 10,
      "metadata": {
        "id": "X4PyXGDZiDYG"
      },
      "outputs": [
        {
          "data": {
            "text/plain": [
              "{' Federal-gov',\n",
              " ' Local-gov',\n",
              " ' Never-worked',\n",
              " ' Private',\n",
              " ' Self-emp-inc',\n",
              " ' Self-emp-not-inc',\n",
              " ' State-gov',\n",
              " ' Without-pay',\n",
              " nan}"
            ]
          },
          "execution_count": 10,
          "metadata": {},
          "output_type": "execute_result"
        }
      ],
      "source": [
        "set(df['workclass'])"
      ]
    },
    {
      "cell_type": "markdown",
      "metadata": {
        "id": "3zMVRfUViDYG"
      },
      "source": [
        "7) Какой средний возраст женщин и мужчин?"
      ]
    },
    {
      "cell_type": "code",
      "execution_count": 11,
      "metadata": {
        "id": "IcmApDX6iDYH"
      },
      "outputs": [
        {
          "data": {
            "text/plain": [
              "38.58164675532078"
            ]
          },
          "execution_count": 11,
          "metadata": {},
          "output_type": "execute_result"
        }
      ],
      "source": [
        "np.average(df['age'])"
      ]
    },
    {
      "cell_type": "markdown",
      "metadata": {
        "id": "UZSecBMaiDYH"
      },
      "source": [
        "8) Постройте гистограмму(bar) распределения образования людей (education)"
      ]
    },
    {
      "cell_type": "code",
      "execution_count": 12,
      "metadata": {
        "id": "ttZFz50PiDYH"
      },
      "outputs": [
        {
          "data": {
            "text/plain": [
              "<Axes: xlabel='education'>"
            ]
          },
          "execution_count": 12,
          "metadata": {},
          "output_type": "execute_result"
        },
        {
          "data": {
            "image/png": "[encoded data removed]",
            "text/plain": [
              "<Figure size 640x480 with 1 Axes>"
            ]
          },
          "metadata": {},
          "output_type": "display_data"
        }
      ],
      "source": [
        "df.groupby('education').count()['age'].plot(kind='bar')"
      ]
    },
    {
      "cell_type": "markdown",
      "metadata": {
        "id": "hJS5Fd3QiDYH"
      },
      "source": [
        "9) Каковы средние значения и среднеквадратичные отклонения возраста тех, кто получает более 50K в год (признак income) и тех, кто получает менее 50K в год?"
      ]
    },
    {
      "cell_type": "code",
      "execution_count": 13,
      "metadata": {
        "id": "S0nw_8_BiDYH"
      },
      "outputs": [
        {
          "data": {
            "text/plain": [
              "{' <=50K', ' >50K'}"
            ]
          },
          "execution_count": 13,
          "metadata": {},
          "output_type": "execute_result"
        }
      ],
      "source": [
        "set(df['income'])"
      ]
    },
    {
      "cell_type": "code",
      "execution_count": 14,
      "metadata": {},
      "outputs": [
        {
          "name": "stdout",
          "output_type": "stream",
          "text": [
            "Среднее: 44.24984058155847\n",
            "Среднеквадратичные отклонения: 10.519027719851826\n"
          ]
        }
      ],
      "source": [
        "ages = df[df['income'] == ' >50K']['age']\n",
        "\n",
        "print(f'Среднее: {ages.mean()}\\nСреднеквадратичные отклонения: {ages.std()}')"
      ]
    },
    {
      "cell_type": "markdown",
      "metadata": {
        "id": "1c8cJ2MPiDYH"
      },
      "source": [
        "10) Правда ли, что люди, которые получают больше 50k, имеют как минимум высшее образование? (признак education - Bachelors, Prof-school, Assoc-acdm, Assoc-voc, Masters или Doctorate)"
      ]
    },
    {
      "cell_type": "code",
      "execution_count": 15,
      "metadata": {},
      "outputs": [
        {
          "data": {
            "text/plain": [
              "{' 10th',\n",
              " ' 11th',\n",
              " ' 12th',\n",
              " ' 1st-4th',\n",
              " ' 5th-6th',\n",
              " ' 7th-8th',\n",
              " ' 9th',\n",
              " ' Assoc-acdm',\n",
              " ' Assoc-voc',\n",
              " ' Bachelors',\n",
              " ' Doctorate',\n",
              " ' HS-grad',\n",
              " ' Masters',\n",
              " ' Preschool',\n",
              " ' Prof-school',\n",
              " ' Some-college'}"
            ]
          },
          "execution_count": 15,
          "metadata": {},
          "output_type": "execute_result"
        }
      ],
      "source": [
        "set(df['education'])"
      ]
    },
    {
      "cell_type": "code",
      "execution_count": 16,
      "metadata": {
        "id": "LteMTUfDiDYH"
      },
      "outputs": [
        {
          "name": "stdout",
          "output_type": "stream",
          "text": [
            "Нет. Есть люди, у которых отсутствует одно из приведенных выше степеней образования\n"
          ]
        }
      ],
      "source": [
        "requested_educations = [\n",
        "    ' Bachelors',  \n",
        "    ' Prof-school', \n",
        "    ' Assoc-acdm', \n",
        "    ' Assoc-voc', \n",
        "    ' Masters',\n",
        "    ' Doctorate'\n",
        "]\n",
        "\n",
        "result = df[df['income'] == ' >50K']['education'].apply(lambda x: x not in requested_educations).any()\n",
        "\n",
        "if result:\n",
        "    print('Нет. Есть люди, у которых отсутствует одно из приведенных выше степеней образования')\n",
        "else:\n",
        "    print('Да. Все люди имеют одно из приведенных образований')"
      ]
    },
    {
      "cell_type": "markdown",
      "metadata": {
        "id": "X9fyL577iDYI"
      },
      "source": [
        "11) Среди кого больше доля зарабатывающих много (>50K): среди женатых или холостых мужчин (признак marital-status)? Женатыми считаем тех, у кого marital-status начинается с Married (Married-civ-spouse, Married-spouse-absent или Married-AF-spouse), остальных считаем холостыми."
      ]
    },
    {
      "cell_type": "code",
      "execution_count": 21,
      "metadata": {},
      "outputs": [
        {
          "data": {
            "text/plain": [
              "0              Never-married\n",
              "1         Married-civ-spouse\n",
              "2                   Divorced\n",
              "3         Married-civ-spouse\n",
              "4         Married-civ-spouse\n",
              "                ...         \n",
              "32556     Married-civ-spouse\n",
              "32557     Married-civ-spouse\n",
              "32558                Widowed\n",
              "32559          Never-married\n",
              "32560     Married-civ-spouse\n",
              "Name: marital.status, Length: 32561, dtype: object"
            ]
          },
          "execution_count": 21,
          "metadata": {},
          "output_type": "execute_result"
        }
      ],
      "source": [
        "set(df['marital.status'])"
      ]
    },
    {
      "cell_type": "code",
      "execution_count": 47,
      "metadata": {
        "id": "SJS-ZxhbiDYI"
      },
      "outputs": [
        {
          "name": "stdout",
          "output_type": "stream",
          "text": [
            "Женатых больше (0.90 > 0.10)\n"
          ]
        }
      ],
      "source": [
        "rich_ones = df[\n",
        "    (df['income'] == ' >50K') & \n",
        "    (df['sex'] == ' Male')\n",
        "]['marital.status'].apply(lambda x: str(x))\n",
        "\n",
        "married_count = rich_ones[rich_ones.str.startswith(' Married')].count()\n",
        "non_married_count = rich_ones.count() - married_count\n",
        "rich_ones_count = rich_ones.count()\n",
        "\n",
        "married_perc = married_count / rich_ones_count\n",
        "non_married_perc = (rich_ones_count - married_count)  / rich_ones_count\n",
        "\n",
        "if married_perc > non_married_perc:\n",
        "    print(f'Женатых больше ({married_perc:.2f} > {non_married_perc:.2f})')\n",
        "else:\n",
        "    print(f'Холостых больше ({non_married_perc:.2f} > {married_perc:.2f})')"
      ]
    },
    {
      "cell_type": "markdown",
      "metadata": {
        "id": "i7-zNsnIiDYI"
      },
      "source": [
        "12) Постройте [сводную таблицу](https://pandas.pydata.org/pandas-docs/stable/reference/api/pandas.pivot_table.html) для отображения зависимостей среднего времени работы (hours.per.week) с доходом (income) для каждой страны (native.country).  \n",
        "\n",
        "\n",
        "> Пример фрагмента таблицы:\n",
        "\n",
        "\n",
        "\n",
        "![image.png](data:image/png;base64,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)"
      ]
    },
    {
      "cell_type": "code",
      "execution_count": 55,
      "metadata": {
        "id": "ZRu3ZeO1hkdp"
      },
      "outputs": [
        {
          "data": {
            "text/html": [
              "<div>\n",
              "<style scoped>\n",
              "    .dataframe tbody tr th:only-of-type {\n",
              "        vertical-align: middle;\n",
              "    }\n",
              "\n",
              "    .dataframe tbody tr th {\n",
              "        vertical-align: top;\n",
              "    }\n",
              "\n",
              "    .dataframe thead th {\n",
              "        text-align: right;\n",
              "    }\n",
              "</style>\n",
              "<table border=\"1\" class=\"dataframe\">\n",
              "  <thead>\n",
              "    <tr style=\"text-align: right;\">\n",
              "      <th>income</th>\n",
              "      <th>&lt;=50K</th>\n",
              "      <th>&gt;50K</th>\n",
              "    </tr>\n",
              "    <tr>\n",
              "      <th>native.country</th>\n",
              "      <th></th>\n",
              "      <th></th>\n",
              "    </tr>\n",
              "  </thead>\n",
              "  <tbody>\n",
              "    <tr>\n",
              "      <th>Cambodia</th>\n",
              "      <td>41.416667</td>\n",
              "      <td>40.000000</td>\n",
              "    </tr>\n",
              "    <tr>\n",
              "      <th>Canada</th>\n",
              "      <td>37.914634</td>\n",
              "      <td>45.641026</td>\n",
              "    </tr>\n",
              "    <tr>\n",
              "      <th>China</th>\n",
              "      <td>37.381818</td>\n",
              "      <td>38.900000</td>\n",
              "    </tr>\n",
              "    <tr>\n",
              "      <th>Columbia</th>\n",
              "      <td>38.684211</td>\n",
              "      <td>50.000000</td>\n",
              "    </tr>\n",
              "    <tr>\n",
              "      <th>Cuba</th>\n",
              "      <td>37.985714</td>\n",
              "      <td>42.440000</td>\n",
              "    </tr>\n",
              "    <tr>\n",
              "      <th>Dominican-Republic</th>\n",
              "      <td>42.338235</td>\n",
              "      <td>47.000000</td>\n",
              "    </tr>\n",
              "    <tr>\n",
              "      <th>Ecuador</th>\n",
              "      <td>38.041667</td>\n",
              "      <td>48.750000</td>\n",
              "    </tr>\n",
              "    <tr>\n",
              "      <th>El-Salvador</th>\n",
              "      <td>36.030928</td>\n",
              "      <td>45.000000</td>\n",
              "    </tr>\n",
              "    <tr>\n",
              "      <th>England</th>\n",
              "      <td>40.483333</td>\n",
              "      <td>44.533333</td>\n",
              "    </tr>\n",
              "    <tr>\n",
              "      <th>France</th>\n",
              "      <td>41.058824</td>\n",
              "      <td>50.750000</td>\n",
              "    </tr>\n",
              "    <tr>\n",
              "      <th>Germany</th>\n",
              "      <td>39.139785</td>\n",
              "      <td>44.977273</td>\n",
              "    </tr>\n",
              "    <tr>\n",
              "      <th>Greece</th>\n",
              "      <td>41.809524</td>\n",
              "      <td>50.625000</td>\n",
              "    </tr>\n",
              "    <tr>\n",
              "      <th>Guatemala</th>\n",
              "      <td>39.360656</td>\n",
              "      <td>36.666667</td>\n",
              "    </tr>\n",
              "    <tr>\n",
              "      <th>Haiti</th>\n",
              "      <td>36.325000</td>\n",
              "      <td>42.750000</td>\n",
              "    </tr>\n",
              "    <tr>\n",
              "      <th>Holand-Netherlands</th>\n",
              "      <td>40.000000</td>\n",
              "      <td>NaN</td>\n",
              "    </tr>\n",
              "    <tr>\n",
              "      <th>Honduras</th>\n",
              "      <td>34.333333</td>\n",
              "      <td>60.000000</td>\n",
              "    </tr>\n",
              "    <tr>\n",
              "      <th>Hong</th>\n",
              "      <td>39.142857</td>\n",
              "      <td>45.000000</td>\n",
              "    </tr>\n",
              "    <tr>\n",
              "      <th>Hungary</th>\n",
              "      <td>31.300000</td>\n",
              "      <td>50.000000</td>\n",
              "    </tr>\n",
              "    <tr>\n",
              "      <th>India</th>\n",
              "      <td>38.233333</td>\n",
              "      <td>46.475000</td>\n",
              "    </tr>\n",
              "    <tr>\n",
              "      <th>Iran</th>\n",
              "      <td>41.440000</td>\n",
              "      <td>47.500000</td>\n",
              "    </tr>\n",
              "    <tr>\n",
              "      <th>Ireland</th>\n",
              "      <td>40.947368</td>\n",
              "      <td>48.000000</td>\n",
              "    </tr>\n",
              "    <tr>\n",
              "      <th>Italy</th>\n",
              "      <td>39.625000</td>\n",
              "      <td>45.400000</td>\n",
              "    </tr>\n",
              "    <tr>\n",
              "      <th>Jamaica</th>\n",
              "      <td>38.239437</td>\n",
              "      <td>41.100000</td>\n",
              "    </tr>\n",
              "    <tr>\n",
              "      <th>Japan</th>\n",
              "      <td>41.000000</td>\n",
              "      <td>47.958333</td>\n",
              "    </tr>\n",
              "    <tr>\n",
              "      <th>Laos</th>\n",
              "      <td>40.375000</td>\n",
              "      <td>40.000000</td>\n",
              "    </tr>\n",
              "    <tr>\n",
              "      <th>Mexico</th>\n",
              "      <td>40.003279</td>\n",
              "      <td>46.575758</td>\n",
              "    </tr>\n",
              "    <tr>\n",
              "      <th>Nicaragua</th>\n",
              "      <td>36.093750</td>\n",
              "      <td>37.500000</td>\n",
              "    </tr>\n",
              "    <tr>\n",
              "      <th>Outlying-US(Guam-USVI-etc)</th>\n",
              "      <td>41.857143</td>\n",
              "      <td>NaN</td>\n",
              "    </tr>\n",
              "    <tr>\n",
              "      <th>Peru</th>\n",
              "      <td>35.068966</td>\n",
              "      <td>40.000000</td>\n",
              "    </tr>\n",
              "    <tr>\n",
              "      <th>Philippines</th>\n",
              "      <td>38.065693</td>\n",
              "      <td>43.032787</td>\n",
              "    </tr>\n",
              "    <tr>\n",
              "      <th>Poland</th>\n",
              "      <td>38.166667</td>\n",
              "      <td>39.000000</td>\n",
              "    </tr>\n",
              "    <tr>\n",
              "      <th>Portugal</th>\n",
              "      <td>41.939394</td>\n",
              "      <td>41.500000</td>\n",
              "    </tr>\n",
              "    <tr>\n",
              "      <th>Puerto-Rico</th>\n",
              "      <td>38.470588</td>\n",
              "      <td>39.416667</td>\n",
              "    </tr>\n",
              "    <tr>\n",
              "      <th>Scotland</th>\n",
              "      <td>39.444444</td>\n",
              "      <td>46.666667</td>\n",
              "    </tr>\n",
              "    <tr>\n",
              "      <th>South</th>\n",
              "      <td>40.156250</td>\n",
              "      <td>51.437500</td>\n",
              "    </tr>\n",
              "    <tr>\n",
              "      <th>Taiwan</th>\n",
              "      <td>33.774194</td>\n",
              "      <td>46.800000</td>\n",
              "    </tr>\n",
              "    <tr>\n",
              "      <th>Thailand</th>\n",
              "      <td>42.866667</td>\n",
              "      <td>58.333333</td>\n",
              "    </tr>\n",
              "    <tr>\n",
              "      <th>Trinadad&amp;Tobago</th>\n",
              "      <td>37.058824</td>\n",
              "      <td>40.000000</td>\n",
              "    </tr>\n",
              "    <tr>\n",
              "      <th>United-States</th>\n",
              "      <td>38.799127</td>\n",
              "      <td>45.505369</td>\n",
              "    </tr>\n",
              "    <tr>\n",
              "      <th>Vietnam</th>\n",
              "      <td>37.193548</td>\n",
              "      <td>39.200000</td>\n",
              "    </tr>\n",
              "    <tr>\n",
              "      <th>Yugoslavia</th>\n",
              "      <td>41.600000</td>\n",
              "      <td>49.500000</td>\n",
              "    </tr>\n",
              "  </tbody>\n",
              "</table>\n",
              "</div>"
            ],
            "text/plain": [
              "income                           <=50K       >50K\n",
              "native.country                                   \n",
              " Cambodia                    41.416667  40.000000\n",
              " Canada                      37.914634  45.641026\n",
              " China                       37.381818  38.900000\n",
              " Columbia                    38.684211  50.000000\n",
              " Cuba                        37.985714  42.440000\n",
              " Dominican-Republic          42.338235  47.000000\n",
              " Ecuador                     38.041667  48.750000\n",
              " El-Salvador                 36.030928  45.000000\n",
              " England                     40.483333  44.533333\n",
              " France                      41.058824  50.750000\n",
              " Germany                     39.139785  44.977273\n",
              " Greece                      41.809524  50.625000\n",
              " Guatemala                   39.360656  36.666667\n",
              " Haiti                       36.325000  42.750000\n",
              " Holand-Netherlands          40.000000        NaN\n",
              " Honduras                    34.333333  60.000000\n",
              " Hong                        39.142857  45.000000\n",
              " Hungary                     31.300000  50.000000\n",
              " India                       38.233333  46.475000\n",
              " Iran                        41.440000  47.500000\n",
              " Ireland                     40.947368  48.000000\n",
              " Italy                       39.625000  45.400000\n",
              " Jamaica                     38.239437  41.100000\n",
              " Japan                       41.000000  47.958333\n",
              " Laos                        40.375000  40.000000\n",
              " Mexico                      40.003279  46.575758\n",
              " Nicaragua                   36.093750  37.500000\n",
              " Outlying-US(Guam-USVI-etc)  41.857143        NaN\n",
              " Peru                        35.068966  40.000000\n",
              " Philippines                 38.065693  43.032787\n",
              " Poland                      38.166667  39.000000\n",
              " Portugal                    41.939394  41.500000\n",
              " Puerto-Rico                 38.470588  39.416667\n",
              " Scotland                    39.444444  46.666667\n",
              " South                       40.156250  51.437500\n",
              " Taiwan                      33.774194  46.800000\n",
              " Thailand                    42.866667  58.333333\n",
              " Trinadad&Tobago             37.058824  40.000000\n",
              " United-States               38.799127  45.505369\n",
              " Vietnam                     37.193548  39.200000\n",
              " Yugoslavia                  41.600000  49.500000"
            ]
          },
          "execution_count": 55,
          "metadata": {},
          "output_type": "execute_result"
        }
      ],
      "source": [
        "pd.crosstab(index=df['native.country'], values=df['hours.per.week'], columns=df['income'], aggfunc='mean')"
      ]
    },
    {
      "cell_type": "markdown",
      "metadata": {
        "id": "u4c01nU6iDYI"
      },
      "source": [
        "13) Постройте сводную таблицу для сравнения уровня образования и разности между capital.gain и capital.loss по следующему алгоритму:&nbsp;  \n",
        "1. Создайте вспомогательную таблицу (датафрейм) и добавьте в неё столбец \"education\" из целевой таблицы\n",
        "2. Добавьте во вспомогательную таблицу ещё один столбец \"capital.diff\", значиниями которого будут являться разности столбцов capital.gain и capital.loss целевой таблицы\n",
        "3. Удалите во вспомогательной таблице все строки, в которых значение столбца \"capital.diff\" равно нулю  \n",
        "&nbsp; Подсказка:\n",
        "```\n",
        "summary_table = summary_table[summary_table['capital.diff'] != 0 ]\n",
        "```\n",
        "4. Для набора значений из столбца \"capital.diff\", необходимо сформировать 10 категорий (кластеров), это можно сделать с помощью математических функций, типа log, извлечение корня N-ой степени и округления, для последующего перехода к категориальным признакам.  \n",
        "  * В нашем случае, можно воспользоваться методом [pd.qcut()](https://pandas.pydata.org/pandas-docs/stable/reference/api/pandas.qcut.html) и равномерно разделить наш набор данных на целевое количество категорий\n",
        "5. Добавьте во вспомогательную таблицу столбец \"categories\", и проинициализируйте его значениями категорий, которые возвращает метод pd.qcut()  \n",
        "&nbsp; Пример:\n",
        "```\n",
        "summary_table['categories'] = pd.qcut(summary_table[\"capital.diff\"], q = 10)\n",
        "\n",
        "6. Постройте сводную таблицу с помощью метода pivot_table(),\n",
        "\n",
        "Примерная структура таблицы (в качестве значений выводится количество людей, относящихся к той или иной группе):\n",
        "\n",
        "![image.png](data:image/png;base64,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)"
      ]
    },
    {
      "cell_type": "code",
      "execution_count": 84,
      "metadata": {
        "id": "x51EduTuiDYJ"
      },
      "outputs": [
        {
          "data": {
            "text/html": [
              "<div>\n",
              "<style scoped>\n",
              "    .dataframe tbody tr th:only-of-type {\n",
              "        vertical-align: middle;\n",
              "    }\n",
              "\n",
              "    .dataframe tbody tr th {\n",
              "        vertical-align: top;\n",
              "    }\n",
              "\n",
              "    .dataframe thead th {\n",
              "        text-align: right;\n",
              "    }\n",
              "</style>\n",
              "<table border=\"1\" class=\"dataframe\">\n",
              "  <thead>\n",
              "    <tr style=\"text-align: right;\">\n",
              "      <th>categories</th>\n",
              "      <th>(-4356.001, -1977.0]</th>\n",
              "      <th>(-1977.0, -1887.0]</th>\n",
              "      <th>(-1887.0, -1594.0]</th>\n",
              "      <th>(-1594.0, 2174.0]</th>\n",
              "      <th>(2174.0, 3137.0]</th>\n",
              "      <th>(3137.0, 4787.0]</th>\n",
              "      <th>(4787.0, 7298.0]</th>\n",
              "      <th>(7298.0, 8614.0]</th>\n",
              "      <th>(8614.0, 15024.0]</th>\n",
              "      <th>(15024.0, 99999.0]</th>\n",
              "    </tr>\n",
              "    <tr>\n",
              "      <th>education</th>\n",
              "      <th></th>\n",
              "      <th></th>\n",
              "      <th></th>\n",
              "      <th></th>\n",
              "      <th></th>\n",
              "      <th></th>\n",
              "      <th></th>\n",
              "      <th></th>\n",
              "      <th></th>\n",
              "      <th></th>\n",
              "    </tr>\n",
              "  </thead>\n",
              "  <tbody>\n",
              "    <tr>\n",
              "      <th>10th</th>\n",
              "      <td>11</td>\n",
              "      <td>4</td>\n",
              "      <td>10</td>\n",
              "      <td>13</td>\n",
              "      <td>11</td>\n",
              "      <td>9</td>\n",
              "      <td>3</td>\n",
              "      <td>1</td>\n",
              "      <td>2</td>\n",
              "      <td>4</td>\n",
              "    </tr>\n",
              "    <tr>\n",
              "      <th>11th</th>\n",
              "      <td>10</td>\n",
              "      <td>3</td>\n",
              "      <td>14</td>\n",
              "      <td>17</td>\n",
              "      <td>9</td>\n",
              "      <td>12</td>\n",
              "      <td>10</td>\n",
              "      <td>6</td>\n",
              "      <td>5</td>\n",
              "      <td>0</td>\n",
              "    </tr>\n",
              "    <tr>\n",
              "      <th>12th</th>\n",
              "      <td>1</td>\n",
              "      <td>0</td>\n",
              "      <td>6</td>\n",
              "      <td>8</td>\n",
              "      <td>2</td>\n",
              "      <td>5</td>\n",
              "      <td>1</td>\n",
              "      <td>3</td>\n",
              "      <td>3</td>\n",
              "      <td>1</td>\n",
              "    </tr>\n",
              "    <tr>\n",
              "      <th>1st-4th</th>\n",
              "      <td>2</td>\n",
              "      <td>0</td>\n",
              "      <td>2</td>\n",
              "      <td>1</td>\n",
              "      <td>0</td>\n",
              "      <td>3</td>\n",
              "      <td>0</td>\n",
              "      <td>1</td>\n",
              "      <td>0</td>\n",
              "      <td>0</td>\n",
              "    </tr>\n",
              "    <tr>\n",
              "      <th>5th-6th</th>\n",
              "      <td>6</td>\n",
              "      <td>2</td>\n",
              "      <td>2</td>\n",
              "      <td>3</td>\n",
              "      <td>3</td>\n",
              "      <td>4</td>\n",
              "      <td>5</td>\n",
              "      <td>0</td>\n",
              "      <td>0</td>\n",
              "      <td>0</td>\n",
              "    </tr>\n",
              "    <tr>\n",
              "      <th>7th-8th</th>\n",
              "      <td>7</td>\n",
              "      <td>3</td>\n",
              "      <td>9</td>\n",
              "      <td>10</td>\n",
              "      <td>19</td>\n",
              "      <td>7</td>\n",
              "      <td>6</td>\n",
              "      <td>2</td>\n",
              "      <td>1</td>\n",
              "      <td>0</td>\n",
              "    </tr>\n",
              "    <tr>\n",
              "      <th>9th</th>\n",
              "      <td>1</td>\n",
              "      <td>0</td>\n",
              "      <td>7</td>\n",
              "      <td>13</td>\n",
              "      <td>9</td>\n",
              "      <td>7</td>\n",
              "      <td>2</td>\n",
              "      <td>0</td>\n",
              "      <td>0</td>\n",
              "      <td>1</td>\n",
              "    </tr>\n",
              "    <tr>\n",
              "      <th>Assoc-acdm</th>\n",
              "      <td>14</td>\n",
              "      <td>15</td>\n",
              "      <td>17</td>\n",
              "      <td>16</td>\n",
              "      <td>13</td>\n",
              "      <td>12</td>\n",
              "      <td>14</td>\n",
              "      <td>16</td>\n",
              "      <td>17</td>\n",
              "      <td>3</td>\n",
              "    </tr>\n",
              "    <tr>\n",
              "      <th>Assoc-voc</th>\n",
              "      <td>19</td>\n",
              "      <td>13</td>\n",
              "      <td>12</td>\n",
              "      <td>18</td>\n",
              "      <td>22</td>\n",
              "      <td>31</td>\n",
              "      <td>34</td>\n",
              "      <td>16</td>\n",
              "      <td>19</td>\n",
              "      <td>4</td>\n",
              "    </tr>\n",
              "    <tr>\n",
              "      <th>Bachelors</th>\n",
              "      <td>114</td>\n",
              "      <td>104</td>\n",
              "      <td>60</td>\n",
              "      <td>83</td>\n",
              "      <td>54</td>\n",
              "      <td>63</td>\n",
              "      <td>131</td>\n",
              "      <td>118</td>\n",
              "      <td>180</td>\n",
              "      <td>64</td>\n",
              "    </tr>\n",
              "    <tr>\n",
              "      <th>Doctorate</th>\n",
              "      <td>25</td>\n",
              "      <td>23</td>\n",
              "      <td>2</td>\n",
              "      <td>4</td>\n",
              "      <td>2</td>\n",
              "      <td>8</td>\n",
              "      <td>5</td>\n",
              "      <td>12</td>\n",
              "      <td>25</td>\n",
              "      <td>23</td>\n",
              "    </tr>\n",
              "    <tr>\n",
              "      <th>HS-grad</th>\n",
              "      <td>118</td>\n",
              "      <td>91</td>\n",
              "      <td>119</td>\n",
              "      <td>152</td>\n",
              "      <td>140</td>\n",
              "      <td>152</td>\n",
              "      <td>149</td>\n",
              "      <td>60</td>\n",
              "      <td>68</td>\n",
              "      <td>37</td>\n",
              "    </tr>\n",
              "    <tr>\n",
              "      <th>Masters</th>\n",
              "      <td>71</td>\n",
              "      <td>44</td>\n",
              "      <td>22</td>\n",
              "      <td>21</td>\n",
              "      <td>14</td>\n",
              "      <td>24</td>\n",
              "      <td>51</td>\n",
              "      <td>50</td>\n",
              "      <td>90</td>\n",
              "      <td>36</td>\n",
              "    </tr>\n",
              "    <tr>\n",
              "      <th>Preschool</th>\n",
              "      <td>0</td>\n",
              "      <td>0</td>\n",
              "      <td>2</td>\n",
              "      <td>0</td>\n",
              "      <td>0</td>\n",
              "      <td>1</td>\n",
              "      <td>0</td>\n",
              "      <td>0</td>\n",
              "      <td>0</td>\n",
              "      <td>1</td>\n",
              "    </tr>\n",
              "    <tr>\n",
              "      <th>Prof-school</th>\n",
              "      <td>44</td>\n",
              "      <td>11</td>\n",
              "      <td>4</td>\n",
              "      <td>7</td>\n",
              "      <td>5</td>\n",
              "      <td>5</td>\n",
              "      <td>5</td>\n",
              "      <td>11</td>\n",
              "      <td>60</td>\n",
              "      <td>61</td>\n",
              "    </tr>\n",
              "    <tr>\n",
              "      <th>Some-college</th>\n",
              "      <td>73</td>\n",
              "      <td>67</td>\n",
              "      <td>89</td>\n",
              "      <td>101</td>\n",
              "      <td>82</td>\n",
              "      <td>90</td>\n",
              "      <td>104</td>\n",
              "      <td>61</td>\n",
              "      <td>65</td>\n",
              "      <td>26</td>\n",
              "    </tr>\n",
              "  </tbody>\n",
              "</table>\n",
              "</div>"
            ],
            "text/plain": [
              "categories     (-4356.001, -1977.0]  (-1977.0, -1887.0]  (-1887.0, -1594.0]  \\\n",
              "education                                                                     \n",
              " 10th                            11                   4                  10   \n",
              " 11th                            10                   3                  14   \n",
              " 12th                             1                   0                   6   \n",
              " 1st-4th                          2                   0                   2   \n",
              " 5th-6th                          6                   2                   2   \n",
              " 7th-8th                          7                   3                   9   \n",
              " 9th                              1                   0                   7   \n",
              " Assoc-acdm                      14                  15                  17   \n",
              " Assoc-voc                       19                  13                  12   \n",
              " Bachelors                      114                 104                  60   \n",
              " Doctorate                       25                  23                   2   \n",
              " HS-grad                        118                  91                 119   \n",
              " Masters                         71                  44                  22   \n",
              " Preschool                        0                   0                   2   \n",
              " Prof-school                     44                  11                   4   \n",
              " Some-college                    73                  67                  89   \n",
              "\n",
              "categories     (-1594.0, 2174.0]  (2174.0, 3137.0]  (3137.0, 4787.0]  \\\n",
              "education                                                              \n",
              " 10th                         13                11                 9   \n",
              " 11th                         17                 9                12   \n",
              " 12th                          8                 2                 5   \n",
              " 1st-4th                       1                 0                 3   \n",
              " 5th-6th                       3                 3                 4   \n",
              " 7th-8th                      10                19                 7   \n",
              " 9th                          13                 9                 7   \n",
              " Assoc-acdm                   16                13                12   \n",
              " Assoc-voc                    18                22                31   \n",
              " Bachelors                    83                54                63   \n",
              " Doctorate                     4                 2                 8   \n",
              " HS-grad                     152               140               152   \n",
              " Masters                      21                14                24   \n",
              " Preschool                     0                 0                 1   \n",
              " Prof-school                   7                 5                 5   \n",
              " Some-college                101                82                90   \n",
              "\n",
              "categories     (4787.0, 7298.0]  (7298.0, 8614.0]  (8614.0, 15024.0]  \\\n",
              "education                                                              \n",
              " 10th                         3                 1                  2   \n",
              " 11th                        10                 6                  5   \n",
              " 12th                         1                 3                  3   \n",
              " 1st-4th                      0                 1                  0   \n",
              " 5th-6th                      5                 0                  0   \n",
              " 7th-8th                      6                 2                  1   \n",
              " 9th                          2                 0                  0   \n",
              " Assoc-acdm                  14                16                 17   \n",
              " Assoc-voc                   34                16                 19   \n",
              " Bachelors                  131               118                180   \n",
              " Doctorate                    5                12                 25   \n",
              " HS-grad                    149                60                 68   \n",
              " Masters                     51                50                 90   \n",
              " Preschool                    0                 0                  0   \n",
              " Prof-school                  5                11                 60   \n",
              " Some-college               104                61                 65   \n",
              "\n",
              "categories     (15024.0, 99999.0]  \n",
              "education                          \n",
              " 10th                           4  \n",
              " 11th                           0  \n",
              " 12th                           1  \n",
              " 1st-4th                        0  \n",
              " 5th-6th                        0  \n",
              " 7th-8th                        0  \n",
              " 9th                            1  \n",
              " Assoc-acdm                     3  \n",
              " Assoc-voc                      4  \n",
              " Bachelors                     64  \n",
              " Doctorate                     23  \n",
              " HS-grad                       37  \n",
              " Masters                       36  \n",
              " Preschool                      1  \n",
              " Prof-school                   61  \n",
              " Some-college                  26  "
            ]
          },
          "execution_count": 84,
          "metadata": {},
          "output_type": "execute_result"
        }
      ],
      "source": [
        "st = df[['education']].copy()\n",
        "\n",
        "st['capital.diff'] = df['capital.gain'] - df['capital.loss']\n",
        "st = st[st['capital.diff'] != 0]\n",
        "st['categories'] = pd.qcut(st['capital.diff'], q=10)\n",
        "\n",
        "pd.pivot_table(\n",
        "    data=st,\n",
        "    index='education',\n",
        "    columns='categories',\n",
        "    values='capital.diff',\n",
        "    aggfunc='count'\n",
        ")"
      ]
    },
    {
      "cell_type": "markdown",
      "metadata": {
        "id": "3_Opn5YmiDYJ"
      },
      "source": [
        "14) Женщины из каких стран получают в среднем большую зарплату (>50K) чаще."
      ]
    },
    {
      "cell_type": "code",
      "execution_count": 89,
      "metadata": {
        "id": "WZd4vETQiDYJ"
      },
      "outputs": [
        {
          "name": "stdout",
          "output_type": "stream",
          "text": [
            "Больше всего женщин с доходом более >50K:  United-States\n",
            "Количество: 1072\n"
          ]
        }
      ],
      "source": [
        "rich_ones = df[(df['sex'] == ' Female') & (df['income'] == ' >50K')]['native.country'].value_counts()\n",
        "\n",
        "most_riches = rich_ones.idxmax()\n",
        "most_riches_values = rich_ones.max()\n",
        "\n",
        "print(f'Больше всего женщин с доходом более >50K: {most_riches}')\n",
        "print(f'Количество: {most_riches_values}')"
      ]
    },
    {
      "cell_type": "markdown",
      "metadata": {
        "id": "oFXERx3UiDYJ"
      },
      "source": [
        "15) Создайте случайную колонку - magic_salary, которую нужно будет вычислить следующим образом: если зарплата небольшая (<50K), тогда случайно выберите число из диапазона [0,50]. Если зарплата выше 50K тогда из диапазона [51, 200]. Посчитайте среднюю зарплату в час для групп людей с одни уровнем образования на основе нашей случайной колонки magic_salary"
      ]
    },
    {
      "cell_type": "code",
      "execution_count": 94,
      "metadata": {
        "id": "7H0-xXmOUtem"
      },
      "outputs": [
        {
          "name": "stdout",
          "output_type": "stream",
          "text": [
            "Средняя ЗП в зависимости от уровня образования: education\n",
            " 10th            10.509110\n",
            " 11th             8.770213\n",
            " 12th            11.612009\n",
            " 1st-4th          7.035714\n",
            " 5th-6th          8.429429\n",
            " 7th-8th          9.996904\n",
            " 9th              8.935798\n",
            " Assoc-acdm      31.064667\n",
            " Assoc-voc       32.517366\n",
            " Bachelors       49.867040\n",
            " Doctorate       86.723971\n",
            " HS-grad         21.024474\n",
            " Masters         65.894370\n",
            " Preschool        3.000000\n",
            " Prof-school     85.984375\n",
            " Some-college    24.496503\n",
            "Name: magic_salary, dtype: float64\n"
          ]
        }
      ],
      "source": [
        "st = df.copy()\n",
        "st['magic_salary'] = np.where(st['income'] == ' >50K', np.random.randint(51, 201), np.random.randint(0, 51))\n",
        "avg_salary = st.groupby('education')['magic_salary'].mean()\n",
        "\n",
        "print(f'Средняя ЗП в зависимости от уровня образования: {avg_salary}')"
      ]
    }
  ],
  "metadata": {
    "colab": {
      "include_colab_link": true,
      "provenance": []
    },
    "kernelspec": {
      "display_name": "Python 3",
      "language": "python",
      "name": "python3"
    },
    "language_info": {
      "codemirror_mode": {
        "name": "ipython",
        "version": 3
      },
      "file_extension": ".py",
      "mimetype": "text/x-python",
      "name": "python",
      "nbconvert_exporter": "python",
      "pygments_lexer": "ipython3",
      "version": "3.11.5"
    }
  },
  "nbformat": 4,
  "nbformat_minor": 0
}

{
  "cells": [
    {
      "cell_type": "markdown",
      "metadata": {
        "colab_type": "text",
        "id": "view-in-github"
      },
      "source": [
        "<a href=\"https://colab.research.google.com/github/Alexandre77777/data_mining/blob/main/1.%20%D0%92%D0%B2%D0%B5%D0%B4%D0%B5%D0%BD%D0%B8%D0%B5/%D0%9F%D1%80%D0%B0%D0%BA%D1%82%D0%B8%D0%BA%D0%B0/1.%20%D0%9F%D1%80%D0%B0%D0%BA%D1%82%D0%B8%D0%BA%D0%B0_Numpy.ipynb\" target=\"_parent\"><img src=\"https://colab.research.google.com/assets/colab-badge.svg\" alt=\"Open In Colab\"/></a>"
      ]
    },
    {
      "cell_type": "markdown",
      "metadata": {
        "id": "BF4grSYKg73V"
      },
      "source": [
        "# Практика Numpy\n",
        "\n",
        "1. Скачайте этот блокнот к себе.\n",
        "2. Заполните пропущенные ячейки, отвечая на заданные вопросы. Там должен быть код! (если не сказано обратное)\n",
        "3. Сохраните результат в своём гитхаб репозитории.\n",
        "\n",
        "#### Полезная литература\n",
        "- [**Блокнот с теорией**](https://clck.ru/35fwMP)\n",
        "- http://www.numpy.org/\n",
        "- https://jakevdp.github.io/PythonDataScienceHandbook/02.00-introduction-to-numpy.html\n",
        "- https://docs.scipy.org/doc/numpy/user/quickstart.html\n"
      ]
    },
    {
      "cell_type": "markdown",
      "metadata": {
        "id": "M-XimTy4g73X"
      },
      "source": [
        "1) Импортировать numpy и написать версию"
      ]
    },
    {
      "cell_type": "code",
      "execution_count": 3,
      "metadata": {
        "id": "edTYJytqg73Y"
      },
      "outputs": [
        {
          "name": "stdout",
          "output_type": "stream",
          "text": [
            "1.26.0\n"
          ]
        }
      ],
      "source": [
        "import numpy as np\n",
        "print(np.__version__)"
      ]
    },
    {
      "cell_type": "markdown",
      "metadata": {
        "id": "Js6HVXOxg73Y"
      },
      "source": [
        "2) Создать нулевой вектор размера 10"
      ]
    },
    {
      "cell_type": "code",
      "execution_count": 6,
      "metadata": {
        "id": "nm7ledVLg73Y"
      },
      "outputs": [
        {
          "data": {
            "text/plain": [
              "array([0., 0., 0., 0., 0., 0., 0., 0., 0., 0.])"
            ]
          },
          "execution_count": 6,
          "metadata": {},
          "output_type": "execute_result"
        }
      ],
      "source": [
        "np.zeros(10)"
      ]
    },
    {
      "cell_type": "markdown",
      "metadata": {
        "id": "8SDeVDHPg73Z"
      },
      "source": [
        "3) Создать вектор заполненный 7-ами размера 7"
      ]
    },
    {
      "cell_type": "code",
      "execution_count": 11,
      "metadata": {
        "id": "ckz5rNtug73Z"
      },
      "outputs": [
        {
          "data": {
            "text/plain": [
              "array([7, 7, 7, 7, 7, 7, 7])"
            ]
          },
          "execution_count": 11,
          "metadata": {},
          "output_type": "execute_result"
        }
      ],
      "source": [
        "np.full((7), 7)"
      ]
    },
    {
      "cell_type": "markdown",
      "metadata": {
        "id": "3HFGpanUg73Z"
      },
      "source": [
        "4) Создать вектор заполненный четными числами от 10 до 100"
      ]
    },
    {
      "cell_type": "code",
      "execution_count": 259,
      "metadata": {
        "id": "PxQfwkHFg73Z"
      },
      "outputs": [
        {
          "data": {
            "text/plain": [
              "array([10, 11, 12, 13, 14, 15, 16, 17, 18, 19, 20, 21, 22, 23, 24, 25, 26,\n",
              "       27, 28, 29, 30, 31, 32, 33, 34, 35, 36, 37, 38, 39, 40, 41, 42, 43,\n",
              "       44, 45, 46, 47, 48, 49, 50, 51, 52, 53, 54, 55, 56, 57, 58, 59, 60,\n",
              "       61, 62, 63, 64, 65, 66, 67, 68, 69, 70, 71, 72, 73, 74, 75, 76, 77,\n",
              "       78, 79, 80, 81, 82, 83, 84, 85, 86, 87, 88, 89, 90, 91, 92, 93, 94,\n",
              "       95, 96, 97, 98, 99])"
            ]
          },
          "execution_count": 259,
          "metadata": {},
          "output_type": "execute_result"
        }
      ],
      "source": [
        "np.arange(10, 100)"
      ]
    },
    {
      "cell_type": "markdown",
      "metadata": {
        "id": "Kr_pZe-eg73a"
      },
      "source": [
        "5) Создать массив случайных чисел и развернуть его задом наперёд"
      ]
    },
    {
      "cell_type": "code",
      "execution_count": 261,
      "metadata": {
        "id": "n-z2Zbhkg73a"
      },
      "outputs": [
        {
          "data": {
            "text/plain": [
              "array([0.77608046, 0.14429398, 0.29897202, 0.74800205, 0.48365124,\n",
              "       0.51770586, 0.79508511, 0.00232163, 0.74642337])"
            ]
          },
          "execution_count": 261,
          "metadata": {},
          "output_type": "execute_result"
        }
      ],
      "source": [
        "np.random.random(9)[::-1]"
      ]
    },
    {
      "cell_type": "markdown",
      "metadata": {
        "id": "wFsBRv3Yg73a"
      },
      "source": [
        "6) Создать двумерную матрицу размера 3 на 3, заполненную числами от 0 до 9"
      ]
    },
    {
      "cell_type": "code",
      "execution_count": 250,
      "metadata": {
        "id": "FBHjViULg73a"
      },
      "outputs": [
        {
          "data": {
            "text/plain": [
              "array([[0, 1, 2],\n",
              "       [3, 4, 5],\n",
              "       [6, 7, 8]])"
            ]
          },
          "execution_count": 250,
          "metadata": {},
          "output_type": "execute_result"
        }
      ],
      "source": [
        "np.arange(9).reshape((3, 3))"
      ]
    },
    {
      "cell_type": "markdown",
      "metadata": {
        "id": "DSB6smQyg73a"
      },
      "source": [
        "7) Создать матрицу размера 4 на 4 с единицами на диагонали смещеной на один наверх."
      ]
    },
    {
      "cell_type": "code",
      "execution_count": 246,
      "metadata": {},
      "outputs": [
        {
          "data": {
            "text/plain": [
              "array([[0., 1., 0., 0.],\n",
              "       [0., 0., 1., 0.],\n",
              "       [0., 0., 0., 1.],\n",
              "       [0., 0., 0., 0.]])"
            ]
          },
          "execution_count": 246,
          "metadata": {},
          "output_type": "execute_result"
        }
      ],
      "source": [
        "np.eye(4, 4, 1)"
      ]
    },
    {
      "cell_type": "markdown",
      "metadata": {
        "id": "hLSsjUbPg73b"
      },
      "source": [
        "8) Создать матрицу с числами в диапазоне от 1 до 4 по диагонали. В других ячейках матрицы должны быть семерки."
      ]
    },
    {
      "cell_type": "code",
      "execution_count": 49,
      "metadata": {
        "id": "H1N9NhU_g73b"
      },
      "outputs": [
        {
          "data": {
            "text/plain": [
              "array([[0, 7, 7, 7],\n",
              "       [7, 1, 7, 7],\n",
              "       [7, 7, 2, 7],\n",
              "       [7, 7, 7, 3]])"
            ]
          },
          "execution_count": 49,
          "metadata": {},
          "output_type": "execute_result"
        }
      ],
      "source": [
        "arr = np.full((16), 7)\n",
        "arr[::5] = range(4)\n",
        "\n",
        "arr.reshape((4,4))"
      ]
    },
    {
      "cell_type": "markdown",
      "metadata": {
        "id": "A4Z7Hb96g73b"
      },
      "source": [
        "9) Создать матрицу размера 5 на 5 заполненную чиcлами от 0 до 4 в строках."
      ]
    },
    {
      "cell_type": "code",
      "execution_count": 226,
      "metadata": {},
      "outputs": [
        {
          "data": {
            "text/plain": [
              "array([[0, 1, 2, 3, 4],\n",
              "       [0, 1, 2, 3, 4],\n",
              "       [0, 1, 2, 3, 4],\n",
              "       [0, 1, 2, 3, 4],\n",
              "       [0, 1, 2, 3, 4]])"
            ]
          },
          "execution_count": 226,
          "metadata": {},
          "output_type": "execute_result"
        }
      ],
      "source": [
        "np.full((5, 5), range(5))"
      ]
    },
    {
      "cell_type": "markdown",
      "metadata": {
        "id": "0nPC4cNcg73b"
      },
      "source": [
        "10) Создать матрицу случайных чисел размера 10 на 10 и отнять среднее по строкам из каждого элемента строки"
      ]
    },
    {
      "cell_type": "code",
      "execution_count": 228,
      "metadata": {
        "id": "DiXDOccEg73c"
      },
      "outputs": [
        {
          "data": {
            "text/plain": [
              "array([[-0.37798352,  0.30513856,  0.28432782, -0.30077411, -0.30762185,\n",
              "         0.45096924,  0.36777176, -0.43976696,  0.26614833, -0.24820926],\n",
              "       [ 0.27841339,  0.39998967, -0.37191495,  0.30928263, -0.31918208,\n",
              "        -0.16340646,  0.06665692,  0.00246294, -0.54405401,  0.34175195],\n",
              "       [ 0.3422508 ,  0.35887288, -0.1889325 ,  0.45559126, -0.16047175,\n",
              "        -0.24648679, -0.37815507,  0.00967758, -0.11754264, -0.07480379],\n",
              "       [ 0.05477756,  0.55992504,  0.33577808, -0.30311997, -0.31872422,\n",
              "         0.19372456,  0.19436973, -0.24882951, -0.21784893, -0.25005233],\n",
              "       [-0.23908661, -0.14356794,  0.29468796, -0.4022714 , -0.11047584,\n",
              "        -0.22809019,  0.46989634,  0.53655848,  0.19663694, -0.37428772],\n",
              "       [ 0.17557212, -0.24921432,  0.05138151, -0.01169862, -0.27496748,\n",
              "        -0.29623405, -0.01630873,  0.31588716,  0.23460141,  0.070981  ],\n",
              "       [ 0.53139667,  0.3878137 , -0.31583718,  0.25142527,  0.16552674,\n",
              "        -0.02338898, -0.12327752, -0.18492639, -0.33750308, -0.35122922],\n",
              "       [-0.02378744, -0.36672734, -0.26284768,  0.38559306, -0.2754337 ,\n",
              "        -0.20079124,  0.56804914,  0.05368507,  0.39617227, -0.27391215],\n",
              "       [ 0.49036622, -0.40948276, -0.34247867, -0.09091665, -0.12171349,\n",
              "         0.10155965,  0.13599414,  0.26769098,  0.10314411, -0.13416354],\n",
              "       [ 0.01837368, -0.11644819,  0.29122989, -0.24765858, -0.17636436,\n",
              "        -0.05142083, -0.09101659, -0.25810512,  0.35453605,  0.27687407]])"
            ]
          },
          "execution_count": 228,
          "metadata": {},
          "output_type": "execute_result"
        }
      ],
      "source": [
        "matr = np.random.random((10, 10))\n",
        "\n",
        "for i in range(matr.shape[0]):\n",
        "    matr[i] -= np.average(matr[i])\n",
        "\n",
        "matr"
      ]
    },
    {
      "cell_type": "markdown",
      "metadata": {
        "id": "ALlG8EA5g73c"
      },
      "source": [
        "11) Создать матрицу случайных чисел размера 10 на 10 и отнять медиану по столбцам из каждого элемента столбца  "
      ]
    },
    {
      "cell_type": "code",
      "execution_count": 225,
      "metadata": {
        "id": "J7HvCuXFg73c"
      },
      "outputs": [
        {
          "data": {
            "text/plain": [
              "array([[-1.73546082e-01, -5.67388186e-03, -2.95130594e-01,\n",
              "        -2.14626036e-01, -8.24623834e-03, -2.93402718e-01,\n",
              "        -2.96210762e-01,  1.27770523e-01, -4.69249916e-01,\n",
              "         1.20844522e-01],\n",
              "       [ 6.69119150e-02, -1.60812119e-01, -2.29076718e-01,\n",
              "         2.28574711e-01,  1.65943958e-01, -3.12700989e-01,\n",
              "         7.27281656e-02,  3.50730826e-01,  3.20404802e-01,\n",
              "        -2.67866689e-01],\n",
              "       [-6.15938645e-01,  1.58085028e-01, -4.37192131e-02,\n",
              "        -4.49646836e-01, -7.18040790e-02, -8.10395834e-02,\n",
              "         2.38520127e-01,  2.99082230e-01,  2.76183309e-01,\n",
              "        -2.70037996e-01],\n",
              "       [-8.51149713e-03, -1.49228778e-01,  3.16724154e-01,\n",
              "        -4.34688156e-01,  8.24623834e-03, -1.08654927e-01,\n",
              "        -1.03756677e-01,  2.78626724e-02, -1.68958770e-02,\n",
              "        -1.73025276e-01],\n",
              "       [ 8.51149713e-03, -2.34909481e-01, -3.95106265e-01,\n",
              "        -3.93014528e-04, -1.16962575e-01, -7.01400217e-02,\n",
              "         2.70555002e-02, -2.78626724e-02, -3.02586542e-01,\n",
              "         1.76112257e-01],\n",
              "       [ 2.09648594e-01,  4.70453791e-01, -5.08150713e-01,\n",
              "         3.93014528e-04,  2.56830750e-01,  5.76509045e-01,\n",
              "        -2.21293284e-01,  8.43497810e-02,  7.45620646e-02,\n",
              "        -1.05389285e-01],\n",
              "       [-2.70429392e-01,  1.36128182e-01,  4.37192131e-02,\n",
              "         2.01392728e-01, -3.31928235e-02,  7.01400217e-02,\n",
              "        -2.70555002e-02, -4.97483280e-01, -1.05123208e-01,\n",
              "         2.48053999e-01],\n",
              "       [-6.70299930e-01,  5.67388186e-03,  2.68362427e-01,\n",
              "         1.01167150e-01,  1.68965125e-01,  5.77323768e-01,\n",
              "         5.75665501e-01, -5.44035038e-01,  1.68958770e-02,\n",
              "         1.72803369e-01],\n",
              "       [ 1.49966079e-01, -8.93719567e-02,  1.97606102e-01,\n",
              "        -2.12248342e-01, -2.53434470e-01,  5.01482052e-01,\n",
              "         1.18716132e-01, -1.85049274e-01,  4.17159570e-01,\n",
              "        -5.24716907e-01],\n",
              "       [ 1.14865088e-01,  2.33466593e-01,  1.88707874e-01,\n",
              "         8.61480208e-02,  2.13004527e-01,  4.36697207e-01,\n",
              "        -1.62289688e-01, -5.53235128e-02, -2.25139720e-01,\n",
              "         1.05389285e-01]])"
            ]
          },
          "execution_count": 225,
          "metadata": {},
          "output_type": "execute_result"
        }
      ],
      "source": [
        "matr = np.random.random((10, 10))\n",
        "for i in range(matr.shape[0]):\n",
        "    matr[...,i] -= np.median(matr[...,i])\n",
        "\n",
        "matr"
      ]
    },
    {
      "cell_type": "markdown",
      "metadata": {
        "id": "49ooRWtKg73c"
      },
      "source": [
        "12) Создать матрицу случайных чисел 5x5. Добавить к ней столбцы максимумов и минимумов по строкам. Получится матрица 5x7.  "
      ]
    },
    {
      "cell_type": "code",
      "execution_count": 281,
      "metadata": {
        "id": "fxazLdb9g73c"
      },
      "outputs": [
        {
          "data": {
            "text/plain": [
              "array([[ 0,  1,  2,  3,  4],\n",
              "       [ 5,  6,  7,  8,  9],\n",
              "       [10, 11, 12, 13, 14],\n",
              "       [15, 16, 17, 18, 19],\n",
              "       [20, 21, 22, 23, 24],\n",
              "       [ 0,  5, 10, 15, 20],\n",
              "       [ 4,  9, 14, 19, 24]])"
            ]
          },
          "execution_count": 281,
          "metadata": {},
          "output_type": "execute_result"
        }
      ],
      "source": [
        "matr = np.arange(25).reshape((5, 5))\n",
        "np.vstack([matr, np.min(matr, axis=1), np.max(matr, axis=1)])"
      ]
    },
    {
      "cell_type": "markdown",
      "metadata": {
        "id": "qBuKa6-Ug73c"
      },
      "source": [
        "13) Вектор чисел от 1 до 51 преобразовать в вектор нечетных чисел и в вектор четных чисел, поменять их размерности, чтобы получились две матрицы. Найти произведение этих матриц. Найти обратную матрицу чётного произведения.  "
      ]
    },
    {
      "cell_type": "code",
      "execution_count": 315,
      "metadata": {
        "id": "8NJsiSU4g73d"
      },
      "outputs": [
        {
          "name": "stdout",
          "output_type": "stream",
          "text": [
            "Non-even vector:\n",
            "[[ 1  3  5  7  9]\n",
            " [11 13 15 17 19]\n",
            " [21 23 25 27 29]\n",
            " [31 33 35 37 39]\n",
            " [41 43 45 47 49]]\n",
            "\n",
            "Even vector:\n",
            "[[ 2  4  6  8 10]\n",
            " [12 14 16 18 20]\n",
            " [22 24 26 28 30]\n",
            " [32 34 36 38 40]\n",
            " [42 44 46 48 50]]\n",
            "\n",
            "Multuplication of\n",
            "[[ 830  890  950 1010 1070]\n",
            " [1880 2040 2200 2360 2520]\n",
            " [2930 3190 3450 3710 3970]\n",
            " [3980 4340 4700 5060 5420]\n",
            " [5030 5490 5950 6410 6870]]\n",
            "\n",
            "Inverse matrix: \n",
            "None\n"
          ]
        }
      ],
      "source": [
        "vec = np.arange(1, 51)\n",
        "\n",
        "odd_vec = vec[vec % 2 != 0].reshape((5, 5))\n",
        "print(f'Non-even vector:\\n{odd_vec}\\n')\n",
        "\n",
        "even_vec = vec[vec % 2 == 0].reshape((5, 5))\n",
        "print(f'Even vector:\\n{even_vec}\\n')\n",
        "\n",
        "mult_vec = even_vec.dot(odd_vec)\n",
        "print(f'Multuplication of\\n{mult_vec}\\n')\n",
        "\n",
        "print('Inverse matrix: ')\n",
        "try:\n",
        "    print(np.linalg.inv(mult_vec))\n",
        "except np.linalg.LinAlgError:\n",
        "    print(None)"
      ]
    },
    {
      "cell_type": "markdown",
      "metadata": {
        "id": "dIqffVE8g73d"
      },
      "source": [
        "14) Создать 8x8 матрицу и заполнить её в шахматном порядке нулями и единицами."
      ]
    },
    {
      "cell_type": "code",
      "execution_count": 287,
      "metadata": {
        "id": "khdfFTxgg73d"
      },
      "outputs": [
        {
          "data": {
            "text/plain": [
              "array([[0., 1., 0., 1., 0., 1., 0., 1.],\n",
              "       [1., 0., 1., 0., 1., 0., 1., 0.],\n",
              "       [0., 1., 0., 1., 0., 1., 0., 1.],\n",
              "       [1., 0., 1., 0., 1., 0., 1., 0.],\n",
              "       [0., 1., 0., 1., 0., 1., 0., 1.],\n",
              "       [1., 0., 1., 0., 1., 0., 1., 0.],\n",
              "       [0., 1., 0., 1., 0., 1., 0., 1.],\n",
              "       [1., 0., 1., 0., 1., 0., 1., 0.]])"
            ]
          },
          "execution_count": 287,
          "metadata": {},
          "output_type": "execute_result"
        }
      ],
      "source": [
        "matr = np.zeros((8, 8))\n",
        "\n",
        "matr[1::2, ::2] = 1\n",
        "matr[::2, 1::2] = 1\n",
        "\n",
        "matr"
      ]
    }
  ],
  "metadata": {
    "colab": {
      "include_colab_link": true,
      "provenance": []
    },
    "kernelspec": {
      "display_name": "Python 3",
      "language": "python",
      "name": "python3"
    },
    "language_info": {
      "codemirror_mode": {
        "name": "ipython",
        "version": 3
      },
      "file_extension": ".py",
      "mimetype": "text/x-python",
      "name": "python",
      "nbconvert_exporter": "python",
      "pygments_lexer": "ipython3",
      "version": "3.11.5"
    }
  },
  "nbformat": 4,
  "nbformat_minor": 0
}

{
  "cells": [
    {
      "cell_type": "markdown",
      "metadata": {
        "colab_type": "text",
        "id": "view-in-github"
      },
      "source": [
        "<a href=\"https://colab.research.google.com/github/Alexandre77777/data_mining/blob/main/5.%20Random%20Forest/%D0%9F%D1%80%D0%B0%D0%BA%D1%82%D0%B8%D0%BA%D0%B0/%D0%9F%D1%80%D0%B0%D0%BA%D1%82%D0%B8%D1%87%D0%B5%D1%81%D0%BA%D0%B0%D1%8F%20%D1%80%D0%B0%D0%B1%D0%BE%D1%82%D0%B0%20%E2%84%968.%20Random_forest.ipynb\" target=\"_parent\"><img src=\"https://colab.research.google.com/assets/colab-badge.svg\" alt=\"Open In Colab\"/></a>"
      ]
    },
    {
      "cell_type": "markdown",
      "metadata": {
        "id": "0j_kTt7qVxeX"
      },
      "source": [
        "# **Практическая работа №8. Random forest**"
      ]
    },
    {
      "cell_type": "markdown",
      "metadata": {
        "id": "hwRT_4l_KybQ"
      },
      "source": [
        "# Задание 1. Обучите классификатор Random Forest для решения задачи бинарной классификации: для каждого человека научиться предсказывать, выживет ли он при крушении Титаника.\n",
        "\n",
        "Ссылка на датасет: https://www.kaggle.com/c/titanic/data"
      ]
    },
    {
      "cell_type": "markdown",
      "metadata": {
        "id": "6-SQIKsyWzDK"
      },
      "source": [
        "## 1. Устанавливаем зависимости"
      ]
    },
    {
      "cell_type": "code",
      "execution_count": 3,
      "metadata": {
        "id": "rT_eTIY5W9_h"
      },
      "outputs": [],
      "source": [
        "import numpy as np\n",
        "import pandas as pd\n",
        "import matplotlib.pyplot as plt\n",
        "import seaborn as sns\n",
        "import os"
      ]
    },
    {
      "cell_type": "markdown",
      "metadata": {
        "id": "AedM9KndWzMB"
      },
      "source": [
        "## 2. Импортируем датасет"
      ]
    },
    {
      "cell_type": "code",
      "execution_count": 304,
      "metadata": {
        "id": "CJ3mE4JpXGZE"
      },
      "outputs": [],
      "source": [
        "data_path = \"../../data/titanic/\"\n",
        "\n",
        "train_data = pd.read_csv(os.path.join(data_path, 'train.csv'))\n",
        "test_data = pd.read_csv(os.path.join(data_path, 'test.csv'))"
      ]
    },
    {
      "cell_type": "markdown",
      "metadata": {
        "id": "h8LokBddKybd"
      },
      "source": [
        "## 3. Производим разведовательный анализ данных\n",
        "\n",
        "\n",
        "Получим представление о данных в датасете:"
      ]
    },
    {
      "cell_type": "code",
      "execution_count": 305,
      "metadata": {
        "id": "yq0aqSApXhTf"
      },
      "outputs": [
        {
          "data": {
            "text/plain": [
              "(891, 12)"
            ]
          },
          "metadata": {},
          "output_type": "display_data"
        },
        {
          "data": {
            "text/plain": [
              "(418, 11)"
            ]
          },
          "metadata": {},
          "output_type": "display_data"
        }
      ],
      "source": [
        "display(train_data.shape, test_data.shape)"
      ]
    },
    {
      "cell_type": "code",
      "execution_count": 306,
      "metadata": {},
      "outputs": [
        {
          "data": {
            "text/html": [
              "<div>\n",
              "<style scoped>\n",
              "    .dataframe tbody tr th:only-of-type {\n",
              "        vertical-align: middle;\n",
              "    }\n",
              "\n",
              "    .dataframe tbody tr th {\n",
              "        vertical-align: top;\n",
              "    }\n",
              "\n",
              "    .dataframe thead th {\n",
              "        text-align: right;\n",
              "    }\n",
              "</style>\n",
              "<table border=\"1\" class=\"dataframe\">\n",
              "  <thead>\n",
              "    <tr style=\"text-align: right;\">\n",
              "      <th></th>\n",
              "      <th>PassengerId</th>\n",
              "      <th>Survived</th>\n",
              "      <th>Pclass</th>\n",
              "      <th>Name</th>\n",
              "      <th>Sex</th>\n",
              "      <th>Age</th>\n",
              "      <th>SibSp</th>\n",
              "      <th>Parch</th>\n",
              "      <th>Ticket</th>\n",
              "      <th>Fare</th>\n",
              "      <th>Cabin</th>\n",
              "      <th>Embarked</th>\n",
              "    </tr>\n",
              "  </thead>\n",
              "  <tbody>\n",
              "    <tr>\n",
              "      <th>0</th>\n",
              "      <td>1</td>\n",
              "      <td>0</td>\n",
              "      <td>3</td>\n",
              "      <td>Braund, Mr. Owen Harris</td>\n",
              "      <td>male</td>\n",
              "      <td>22.0</td>\n",
              "      <td>1</td>\n",
              "      <td>0</td>\n",
              "      <td>A/5 21171</td>\n",
              "      <td>7.2500</td>\n",
              "      <td>NaN</td>\n",
              "      <td>S</td>\n",
              "    </tr>\n",
              "    <tr>\n",
              "      <th>1</th>\n",
              "      <td>2</td>\n",
              "      <td>1</td>\n",
              "      <td>1</td>\n",
              "      <td>Cumings, Mrs. John Bradley (Florence Briggs Th...</td>\n",
              "      <td>female</td>\n",
              "      <td>38.0</td>\n",
              "      <td>1</td>\n",
              "      <td>0</td>\n",
              "      <td>PC 17599</td>\n",
              "      <td>71.2833</td>\n",
              "      <td>C85</td>\n",
              "      <td>C</td>\n",
              "    </tr>\n",
              "    <tr>\n",
              "      <th>2</th>\n",
              "      <td>3</td>\n",
              "      <td>1</td>\n",
              "      <td>3</td>\n",
              "      <td>Heikkinen, Miss. Laina</td>\n",
              "      <td>female</td>\n",
              "      <td>26.0</td>\n",
              "      <td>0</td>\n",
              "      <td>0</td>\n",
              "      <td>STON/O2. 3101282</td>\n",
              "      <td>7.9250</td>\n",
              "      <td>NaN</td>\n",
              "      <td>S</td>\n",
              "    </tr>\n",
              "    <tr>\n",
              "      <th>3</th>\n",
              "      <td>4</td>\n",
              "      <td>1</td>\n",
              "      <td>1</td>\n",
              "      <td>Futrelle, Mrs. Jacques Heath (Lily May Peel)</td>\n",
              "      <td>female</td>\n",
              "      <td>35.0</td>\n",
              "      <td>1</td>\n",
              "      <td>0</td>\n",
              "      <td>113803</td>\n",
              "      <td>53.1000</td>\n",
              "      <td>C123</td>\n",
              "      <td>S</td>\n",
              "    </tr>\n",
              "    <tr>\n",
              "      <th>4</th>\n",
              "      <td>5</td>\n",
              "      <td>0</td>\n",
              "      <td>3</td>\n",
              "      <td>Allen, Mr. William Henry</td>\n",
              "      <td>male</td>\n",
              "      <td>35.0</td>\n",
              "      <td>0</td>\n",
              "      <td>0</td>\n",
              "      <td>373450</td>\n",
              "      <td>8.0500</td>\n",
              "      <td>NaN</td>\n",
              "      <td>S</td>\n",
              "    </tr>\n",
              "  </tbody>\n",
              "</table>\n",
              "</div>"
            ],
            "text/plain": [
              "   PassengerId  Survived  Pclass  \\\n",
              "0            1         0       3   \n",
              "1            2         1       1   \n",
              "2            3         1       3   \n",
              "3            4         1       1   \n",
              "4            5         0       3   \n",
              "\n",
              "                                                Name     Sex   Age  SibSp  \\\n",
              "0                            Braund, Mr. Owen Harris    male  22.0      1   \n",
              "1  Cumings, Mrs. John Bradley (Florence Briggs Th...  female  38.0      1   \n",
              "2                             Heikkinen, Miss. Laina  female  26.0      0   \n",
              "3       Futrelle, Mrs. Jacques Heath (Lily May Peel)  female  35.0      1   \n",
              "4                           Allen, Mr. William Henry    male  35.0      0   \n",
              "\n",
              "   Parch            Ticket     Fare Cabin Embarked  \n",
              "0      0         A/5 21171   7.2500   NaN        S  \n",
              "1      0          PC 17599  71.2833   C85        C  \n",
              "2      0  STON/O2. 3101282   7.9250   NaN        S  \n",
              "3      0            113803  53.1000  C123        S  \n",
              "4      0            373450   8.0500   NaN        S  "
            ]
          },
          "execution_count": 306,
          "metadata": {},
          "output_type": "execute_result"
        }
      ],
      "source": [
        "train_data.head()"
      ]
    },
    {
      "cell_type": "code",
      "execution_count": 113,
      "metadata": {},
      "outputs": [
        {
          "name": "stdout",
          "output_type": "stream",
          "text": [
            "<class 'pandas.core.frame.DataFrame'>\n",
            "RangeIndex: 891 entries, 0 to 890\n",
            "Data columns (total 12 columns):\n",
            " #   Column       Non-Null Count  Dtype  \n",
            "---  ------       --------------  -----  \n",
            " 0   PassengerId  891 non-null    int64  \n",
            " 1   Survived     891 non-null    int64  \n",
            " 2   Pclass       891 non-null    int64  \n",
            " 3   Name         891 non-null    object \n",
            " 4   Sex          891 non-null    object \n",
            " 5   Age          714 non-null    float64\n",
            " 6   SibSp        891 non-null    int64  \n",
            " 7   Parch        891 non-null    int64  \n",
            " 8   Ticket       891 non-null    object \n",
            " 9   Fare         891 non-null    float64\n",
            " 10  Cabin        204 non-null    object \n",
            " 11  Embarked     889 non-null    object \n",
            "dtypes: float64(2), int64(5), object(5)\n",
            "memory usage: 83.7+ KB\n"
          ]
        }
      ],
      "source": [
        "train_data.info()"
      ]
    },
    {
      "cell_type": "code",
      "execution_count": 114,
      "metadata": {},
      "outputs": [
        {
          "data": {
            "text/html": [
              "<div>\n",
              "<style scoped>\n",
              "    .dataframe tbody tr th:only-of-type {\n",
              "        vertical-align: middle;\n",
              "    }\n",
              "\n",
              "    .dataframe tbody tr th {\n",
              "        vertical-align: top;\n",
              "    }\n",
              "\n",
              "    .dataframe thead th {\n",
              "        text-align: right;\n",
              "    }\n",
              "</style>\n",
              "<table border=\"1\" class=\"dataframe\">\n",
              "  <thead>\n",
              "    <tr style=\"text-align: right;\">\n",
              "      <th></th>\n",
              "      <th>PassengerId</th>\n",
              "      <th>Pclass</th>\n",
              "      <th>Name</th>\n",
              "      <th>Sex</th>\n",
              "      <th>Age</th>\n",
              "      <th>SibSp</th>\n",
              "      <th>Parch</th>\n",
              "      <th>Ticket</th>\n",
              "      <th>Fare</th>\n",
              "      <th>Cabin</th>\n",
              "      <th>Embarked</th>\n",
              "    </tr>\n",
              "  </thead>\n",
              "  <tbody>\n",
              "    <tr>\n",
              "      <th>0</th>\n",
              "      <td>892</td>\n",
              "      <td>3</td>\n",
              "      <td>Kelly, Mr. James</td>\n",
              "      <td>male</td>\n",
              "      <td>34.5</td>\n",
              "      <td>0</td>\n",
              "      <td>0</td>\n",
              "      <td>330911</td>\n",
              "      <td>7.8292</td>\n",
              "      <td>NaN</td>\n",
              "      <td>Q</td>\n",
              "    </tr>\n",
              "    <tr>\n",
              "      <th>1</th>\n",
              "      <td>893</td>\n",
              "      <td>3</td>\n",
              "      <td>Wilkes, Mrs. James (Ellen Needs)</td>\n",
              "      <td>female</td>\n",
              "      <td>47.0</td>\n",
              "      <td>1</td>\n",
              "      <td>0</td>\n",
              "      <td>363272</td>\n",
              "      <td>7.0000</td>\n",
              "      <td>NaN</td>\n",
              "      <td>S</td>\n",
              "    </tr>\n",
              "    <tr>\n",
              "      <th>2</th>\n",
              "      <td>894</td>\n",
              "      <td>2</td>\n",
              "      <td>Myles, Mr. Thomas Francis</td>\n",
              "      <td>male</td>\n",
              "      <td>62.0</td>\n",
              "      <td>0</td>\n",
              "      <td>0</td>\n",
              "      <td>240276</td>\n",
              "      <td>9.6875</td>\n",
              "      <td>NaN</td>\n",
              "      <td>Q</td>\n",
              "    </tr>\n",
              "    <tr>\n",
              "      <th>3</th>\n",
              "      <td>895</td>\n",
              "      <td>3</td>\n",
              "      <td>Wirz, Mr. Albert</td>\n",
              "      <td>male</td>\n",
              "      <td>27.0</td>\n",
              "      <td>0</td>\n",
              "      <td>0</td>\n",
              "      <td>315154</td>\n",
              "      <td>8.6625</td>\n",
              "      <td>NaN</td>\n",
              "      <td>S</td>\n",
              "    </tr>\n",
              "    <tr>\n",
              "      <th>4</th>\n",
              "      <td>896</td>\n",
              "      <td>3</td>\n",
              "      <td>Hirvonen, Mrs. Alexander (Helga E Lindqvist)</td>\n",
              "      <td>female</td>\n",
              "      <td>22.0</td>\n",
              "      <td>1</td>\n",
              "      <td>1</td>\n",
              "      <td>3101298</td>\n",
              "      <td>12.2875</td>\n",
              "      <td>NaN</td>\n",
              "      <td>S</td>\n",
              "    </tr>\n",
              "  </tbody>\n",
              "</table>\n",
              "</div>"
            ],
            "text/plain": [
              "   PassengerId  Pclass                                          Name     Sex  \\\n",
              "0          892       3                              Kelly, Mr. James    male   \n",
              "1          893       3              Wilkes, Mrs. James (Ellen Needs)  female   \n",
              "2          894       2                     Myles, Mr. Thomas Francis    male   \n",
              "3          895       3                              Wirz, Mr. Albert    male   \n",
              "4          896       3  Hirvonen, Mrs. Alexander (Helga E Lindqvist)  female   \n",
              "\n",
              "    Age  SibSp  Parch   Ticket     Fare Cabin Embarked  \n",
              "0  34.5      0      0   330911   7.8292   NaN        Q  \n",
              "1  47.0      1      0   363272   7.0000   NaN        S  \n",
              "2  62.0      0      0   240276   9.6875   NaN        Q  \n",
              "3  27.0      0      0   315154   8.6625   NaN        S  \n",
              "4  22.0      1      1  3101298  12.2875   NaN        S  "
            ]
          },
          "execution_count": 114,
          "metadata": {},
          "output_type": "execute_result"
        }
      ],
      "source": [
        "test_data.head()"
      ]
    },
    {
      "cell_type": "code",
      "execution_count": 307,
      "metadata": {},
      "outputs": [
        {
          "data": {
            "image/png": "[encoded data removed]",
            "text/plain": [
              "<Figure size 1200x1000 with 7 Axes>"
            ]
          },
          "metadata": {},
          "output_type": "display_data"
        }
      ],
      "source": [
        "numerical_features = train_data.select_dtypes(include=['int64', 'float64'])\n",
        "\n",
        "plt.figure(figsize=(12, 10))\n",
        "\n",
        "for i, column in enumerate(numerical_features.columns):\n",
        "    plt.subplot(6, 2, i + 1)\n",
        "    plt.hist(train_data[column], bins=20, edgecolor='k')\n",
        "    plt.xlabel(column)\n",
        "    plt.ylabel('Частота')\n",
        "    plt.title(f\"Частотное распределение для признака '{column}'\")\n",
        "\n",
        "plt.tight_layout()\n",
        "plt.show()"
      ]
    },
    {
      "cell_type": "code",
      "execution_count": 308,
      "metadata": {},
      "outputs": [],
      "source": [
        "def check_defective_columns(df: pd.DataFrame):\n",
        "    none_columns = []\n",
        "    nan_columns = []\n",
        "\n",
        "    for i, column in enumerate(df.columns):\n",
        "        has_none = str(any(pd.isna(df[column])))\n",
        "        has_nan = str(any(pd.isnull(df[column])))\n",
        "        print(f'{column:<13} - has None: {has_none:<5} - has NaN: {has_nan:<5}')\n",
        "\n",
        "        if (has_nan):\n",
        "            nan_columns.append((i, column))\n",
        "\n",
        "        if (has_none):\n",
        "            none_columns.append((i, column))\n",
        "\n",
        "    return none_columns, nan_columns"
      ]
    },
    {
      "cell_type": "code",
      "execution_count": 309,
      "metadata": {},
      "outputs": [
        {
          "name": "stdout",
          "output_type": "stream",
          "text": [
            "PassengerId   - has None: False - has NaN: False\n",
            "Survived      - has None: False - has NaN: False\n",
            "Pclass        - has None: False - has NaN: False\n",
            "Name          - has None: False - has NaN: False\n",
            "Sex           - has None: False - has NaN: False\n",
            "Age           - has None: True  - has NaN: True \n",
            "SibSp         - has None: False - has NaN: False\n",
            "Parch         - has None: False - has NaN: False\n",
            "Ticket        - has None: False - has NaN: False\n",
            "Fare          - has None: False - has NaN: False\n",
            "Cabin         - has None: True  - has NaN: True \n",
            "Embarked      - has None: True  - has NaN: True \n"
          ]
        }
      ],
      "source": [
        "none_columns, nan_columns = check_defective_columns(train_data)"
      ]
    },
    {
      "cell_type": "code",
      "execution_count": 310,
      "metadata": {},
      "outputs": [],
      "source": [
        "train_data_cleaned = train_data.copy()\n",
        "for i, column in none_columns:\n",
        "    train_data_cleaned = train_data_cleaned[train_data_cleaned[column].notnull()]\n",
        "\n",
        "for i, column in nan_columns:\n",
        "    train_data_cleaned = train_data_cleaned[train_data_cleaned[column].notnull()]"
      ]
    },
    {
      "cell_type": "code",
      "execution_count": 311,
      "metadata": {},
      "outputs": [
        {
          "name": "stdout",
          "output_type": "stream",
          "text": [
            "PassengerId   - has None: False - has NaN: False\n",
            "Survived      - has None: False - has NaN: False\n",
            "Pclass        - has None: False - has NaN: False\n",
            "Name          - has None: False - has NaN: False\n",
            "Sex           - has None: False - has NaN: False\n",
            "Age           - has None: False - has NaN: False\n",
            "SibSp         - has None: False - has NaN: False\n",
            "Parch         - has None: False - has NaN: False\n",
            "Ticket        - has None: False - has NaN: False\n",
            "Fare          - has None: False - has NaN: False\n",
            "Cabin         - has None: False - has NaN: False\n",
            "Embarked      - has None: False - has NaN: False\n"
          ]
        }
      ],
      "source": [
        "none_columns, nan_columns = check_defective_columns(train_data_cleaned)"
      ]
    },
    {
      "cell_type": "markdown",
      "metadata": {
        "id": "-4VJEzN8Kybi"
      },
      "source": [
        "## 4. Сформируем обучающую и тестовую выборки:\n"
      ]
    },
    {
      "cell_type": "code",
      "execution_count": 312,
      "metadata": {
        "id": "v40NR9NWXhy-"
      },
      "outputs": [],
      "source": [
        "from sklearn.model_selection import train_test_split\n",
        "\n",
        "# Определим целевую переменную (target) и признаки (features)\n",
        "target = train_data['Survived']\n",
        "features = train_data.drop(['Survived'], axis=1)\n",
        "\n",
        "X_train, X_test, y_train, y_test = train_test_split(features, target, test_size=0.2, random_state=42)"
      ]
    },
    {
      "cell_type": "markdown",
      "metadata": {
        "id": "mY9E-4bBKybn"
      },
      "source": [
        "## 5. Feature Engineering\n",
        "\n",
        "Поработаем с признаками, выделим важные, изменим форму их представления (при надобности)"
      ]
    },
    {
      "cell_type": "code",
      "execution_count": 316,
      "metadata": {
        "id": "HTK4tZTAYsQJ"
      },
      "outputs": [],
      "source": [
        "age_bins = [0, 12, 18, 30, 50, float('inf')]\n",
        "age_labels = ['Дети', 'Подростки', 'Средний возраст', 'От 30 до 50', 'Больше 50']\n",
        "train_data['AgeGroup'] = pd.cut(train_data['Age'], bins=age_bins, labels=age_labels, right=False)\n",
        "train_data = pd.get_dummies(train_data, columns=['AgeGroup'], prefix='AgeGroup')"
      ]
    },
    {
      "cell_type": "code",
      "execution_count": 317,
      "metadata": {},
      "outputs": [
        {
          "data": {
            "text/html": [
              "<div>\n",
              "<style scoped>\n",
              "    .dataframe tbody tr th:only-of-type {\n",
              "        vertical-align: middle;\n",
              "    }\n",
              "\n",
              "    .dataframe tbody tr th {\n",
              "        vertical-align: top;\n",
              "    }\n",
              "\n",
              "    .dataframe thead th {\n",
              "        text-align: right;\n",
              "    }\n",
              "</style>\n",
              "<table border=\"1\" class=\"dataframe\">\n",
              "  <thead>\n",
              "    <tr style=\"text-align: right;\">\n",
              "      <th></th>\n",
              "      <th>PassengerId</th>\n",
              "      <th>Survived</th>\n",
              "      <th>Pclass</th>\n",
              "      <th>Name</th>\n",
              "      <th>Sex</th>\n",
              "      <th>Age</th>\n",
              "      <th>SibSp</th>\n",
              "      <th>Parch</th>\n",
              "      <th>Ticket</th>\n",
              "      <th>Fare</th>\n",
              "      <th>...</th>\n",
              "      <th>AgeGroup_Дети</th>\n",
              "      <th>AgeGroup_Подростки</th>\n",
              "      <th>AgeGroup_Средний возраст</th>\n",
              "      <th>AgeGroup_От 30 до 50</th>\n",
              "      <th>AgeGroup_Больше 50</th>\n",
              "      <th>AgeGroup_Дети</th>\n",
              "      <th>AgeGroup_Подростки</th>\n",
              "      <th>AgeGroup_Средний возраст</th>\n",
              "      <th>AgeGroup_От 30 до 50</th>\n",
              "      <th>AgeGroup_Больше 50</th>\n",
              "    </tr>\n",
              "  </thead>\n",
              "  <tbody>\n",
              "    <tr>\n",
              "      <th>0</th>\n",
              "      <td>1</td>\n",
              "      <td>0</td>\n",
              "      <td>3</td>\n",
              "      <td>Braund, Mr. Owen Harris</td>\n",
              "      <td>male</td>\n",
              "      <td>22.0</td>\n",
              "      <td>1</td>\n",
              "      <td>0</td>\n",
              "      <td>A/5 21171</td>\n",
              "      <td>7.2500</td>\n",
              "      <td>...</td>\n",
              "      <td>False</td>\n",
              "      <td>False</td>\n",
              "      <td>True</td>\n",
              "      <td>False</td>\n",
              "      <td>False</td>\n",
              "      <td>False</td>\n",
              "      <td>False</td>\n",
              "      <td>True</td>\n",
              "      <td>False</td>\n",
              "      <td>False</td>\n",
              "    </tr>\n",
              "    <tr>\n",
              "      <th>1</th>\n",
              "      <td>2</td>\n",
              "      <td>1</td>\n",
              "      <td>1</td>\n",
              "      <td>Cumings, Mrs. John Bradley (Florence Briggs Th...</td>\n",
              "      <td>female</td>\n",
              "      <td>38.0</td>\n",
              "      <td>1</td>\n",
              "      <td>0</td>\n",
              "      <td>PC 17599</td>\n",
              "      <td>71.2833</td>\n",
              "      <td>...</td>\n",
              "      <td>False</td>\n",
              "      <td>False</td>\n",
              "      <td>False</td>\n",
              "      <td>True</td>\n",
              "      <td>False</td>\n",
              "      <td>False</td>\n",
              "      <td>False</td>\n",
              "      <td>False</td>\n",
              "      <td>True</td>\n",
              "      <td>False</td>\n",
              "    </tr>\n",
              "    <tr>\n",
              "      <th>2</th>\n",
              "      <td>3</td>\n",
              "      <td>1</td>\n",
              "      <td>3</td>\n",
              "      <td>Heikkinen, Miss. Laina</td>\n",
              "      <td>female</td>\n",
              "      <td>26.0</td>\n",
              "      <td>0</td>\n",
              "      <td>0</td>\n",
              "      <td>STON/O2. 3101282</td>\n",
              "      <td>7.9250</td>\n",
              "      <td>...</td>\n",
              "      <td>False</td>\n",
              "      <td>False</td>\n",
              "      <td>True</td>\n",
              "      <td>False</td>\n",
              "      <td>False</td>\n",
              "      <td>False</td>\n",
              "      <td>False</td>\n",
              "      <td>True</td>\n",
              "      <td>False</td>\n",
              "      <td>False</td>\n",
              "    </tr>\n",
              "    <tr>\n",
              "      <th>3</th>\n",
              "      <td>4</td>\n",
              "      <td>1</td>\n",
              "      <td>1</td>\n",
              "      <td>Futrelle, Mrs. Jacques Heath (Lily May Peel)</td>\n",
              "      <td>female</td>\n",
              "      <td>35.0</td>\n",
              "      <td>1</td>\n",
              "      <td>0</td>\n",
              "      <td>113803</td>\n",
              "      <td>53.1000</td>\n",
              "      <td>...</td>\n",
              "      <td>False</td>\n",
              "      <td>False</td>\n",
              "      <td>False</td>\n",
              "      <td>True</td>\n",
              "      <td>False</td>\n",
              "      <td>False</td>\n",
              "      <td>False</td>\n",
              "      <td>False</td>\n",
              "      <td>True</td>\n",
              "      <td>False</td>\n",
              "    </tr>\n",
              "    <tr>\n",
              "      <th>4</th>\n",
              "      <td>5</td>\n",
              "      <td>0</td>\n",
              "      <td>3</td>\n",
              "      <td>Allen, Mr. William Henry</td>\n",
              "      <td>male</td>\n",
              "      <td>35.0</td>\n",
              "      <td>0</td>\n",
              "      <td>0</td>\n",
              "      <td>373450</td>\n",
              "      <td>8.0500</td>\n",
              "      <td>...</td>\n",
              "      <td>False</td>\n",
              "      <td>False</td>\n",
              "      <td>False</td>\n",
              "      <td>True</td>\n",
              "      <td>False</td>\n",
              "      <td>False</td>\n",
              "      <td>False</td>\n",
              "      <td>False</td>\n",
              "      <td>True</td>\n",
              "      <td>False</td>\n",
              "    </tr>\n",
              "    <tr>\n",
              "      <th>...</th>\n",
              "      <td>...</td>\n",
              "      <td>...</td>\n",
              "      <td>...</td>\n",
              "      <td>...</td>\n",
              "      <td>...</td>\n",
              "      <td>...</td>\n",
              "      <td>...</td>\n",
              "      <td>...</td>\n",
              "      <td>...</td>\n",
              "      <td>...</td>\n",
              "      <td>...</td>\n",
              "      <td>...</td>\n",
              "      <td>...</td>\n",
              "      <td>...</td>\n",
              "      <td>...</td>\n",
              "      <td>...</td>\n",
              "      <td>...</td>\n",
              "      <td>...</td>\n",
              "      <td>...</td>\n",
              "      <td>...</td>\n",
              "      <td>...</td>\n",
              "    </tr>\n",
              "    <tr>\n",
              "      <th>886</th>\n",
              "      <td>887</td>\n",
              "      <td>0</td>\n",
              "      <td>2</td>\n",
              "      <td>Montvila, Rev. Juozas</td>\n",
              "      <td>male</td>\n",
              "      <td>27.0</td>\n",
              "      <td>0</td>\n",
              "      <td>0</td>\n",
              "      <td>211536</td>\n",
              "      <td>13.0000</td>\n",
              "      <td>...</td>\n",
              "      <td>False</td>\n",
              "      <td>False</td>\n",
              "      <td>True</td>\n",
              "      <td>False</td>\n",
              "      <td>False</td>\n",
              "      <td>False</td>\n",
              "      <td>False</td>\n",
              "      <td>True</td>\n",
              "      <td>False</td>\n",
              "      <td>False</td>\n",
              "    </tr>\n",
              "    <tr>\n",
              "      <th>887</th>\n",
              "      <td>888</td>\n",
              "      <td>1</td>\n",
              "      <td>1</td>\n",
              "      <td>Graham, Miss. Margaret Edith</td>\n",
              "      <td>female</td>\n",
              "      <td>19.0</td>\n",
              "      <td>0</td>\n",
              "      <td>0</td>\n",
              "      <td>112053</td>\n",
              "      <td>30.0000</td>\n",
              "      <td>...</td>\n",
              "      <td>False</td>\n",
              "      <td>False</td>\n",
              "      <td>True</td>\n",
              "      <td>False</td>\n",
              "      <td>False</td>\n",
              "      <td>False</td>\n",
              "      <td>False</td>\n",
              "      <td>True</td>\n",
              "      <td>False</td>\n",
              "      <td>False</td>\n",
              "    </tr>\n",
              "    <tr>\n",
              "      <th>888</th>\n",
              "      <td>889</td>\n",
              "      <td>0</td>\n",
              "      <td>3</td>\n",
              "      <td>Johnston, Miss. Catherine Helen \"Carrie\"</td>\n",
              "      <td>female</td>\n",
              "      <td>NaN</td>\n",
              "      <td>1</td>\n",
              "      <td>2</td>\n",
              "      <td>W./C. 6607</td>\n",
              "      <td>23.4500</td>\n",
              "      <td>...</td>\n",
              "      <td>False</td>\n",
              "      <td>False</td>\n",
              "      <td>False</td>\n",
              "      <td>False</td>\n",
              "      <td>False</td>\n",
              "      <td>False</td>\n",
              "      <td>False</td>\n",
              "      <td>False</td>\n",
              "      <td>False</td>\n",
              "      <td>False</td>\n",
              "    </tr>\n",
              "    <tr>\n",
              "      <th>889</th>\n",
              "      <td>890</td>\n",
              "      <td>1</td>\n",
              "      <td>1</td>\n",
              "      <td>Behr, Mr. Karl Howell</td>\n",
              "      <td>male</td>\n",
              "      <td>26.0</td>\n",
              "      <td>0</td>\n",
              "      <td>0</td>\n",
              "      <td>111369</td>\n",
              "      <td>30.0000</td>\n",
              "      <td>...</td>\n",
              "      <td>False</td>\n",
              "      <td>False</td>\n",
              "      <td>True</td>\n",
              "      <td>False</td>\n",
              "      <td>False</td>\n",
              "      <td>False</td>\n",
              "      <td>False</td>\n",
              "      <td>True</td>\n",
              "      <td>False</td>\n",
              "      <td>False</td>\n",
              "    </tr>\n",
              "    <tr>\n",
              "      <th>890</th>\n",
              "      <td>891</td>\n",
              "      <td>0</td>\n",
              "      <td>3</td>\n",
              "      <td>Dooley, Mr. Patrick</td>\n",
              "      <td>male</td>\n",
              "      <td>32.0</td>\n",
              "      <td>0</td>\n",
              "      <td>0</td>\n",
              "      <td>370376</td>\n",
              "      <td>7.7500</td>\n",
              "      <td>...</td>\n",
              "      <td>False</td>\n",
              "      <td>False</td>\n",
              "      <td>False</td>\n",
              "      <td>True</td>\n",
              "      <td>False</td>\n",
              "      <td>False</td>\n",
              "      <td>False</td>\n",
              "      <td>False</td>\n",
              "      <td>True</td>\n",
              "      <td>False</td>\n",
              "    </tr>\n",
              "  </tbody>\n",
              "</table>\n",
              "<p>891 rows × 22 columns</p>\n",
              "</div>"
            ],
            "text/plain": [
              "     PassengerId  Survived  Pclass  \\\n",
              "0              1         0       3   \n",
              "1              2         1       1   \n",
              "2              3         1       3   \n",
              "3              4         1       1   \n",
              "4              5         0       3   \n",
              "..           ...       ...     ...   \n",
              "886          887         0       2   \n",
              "887          888         1       1   \n",
              "888          889         0       3   \n",
              "889          890         1       1   \n",
              "890          891         0       3   \n",
              "\n",
              "                                                  Name     Sex   Age  SibSp  \\\n",
              "0                              Braund, Mr. Owen Harris    male  22.0      1   \n",
              "1    Cumings, Mrs. John Bradley (Florence Briggs Th...  female  38.0      1   \n",
              "2                               Heikkinen, Miss. Laina  female  26.0      0   \n",
              "3         Futrelle, Mrs. Jacques Heath (Lily May Peel)  female  35.0      1   \n",
              "4                             Allen, Mr. William Henry    male  35.0      0   \n",
              "..                                                 ...     ...   ...    ...   \n",
              "886                              Montvila, Rev. Juozas    male  27.0      0   \n",
              "887                       Graham, Miss. Margaret Edith  female  19.0      0   \n",
              "888           Johnston, Miss. Catherine Helen \"Carrie\"  female   NaN      1   \n",
              "889                              Behr, Mr. Karl Howell    male  26.0      0   \n",
              "890                                Dooley, Mr. Patrick    male  32.0      0   \n",
              "\n",
              "     Parch            Ticket     Fare  ...  AgeGroup_Дети  AgeGroup_Подростки  \\\n",
              "0        0         A/5 21171   7.2500  ...          False               False   \n",
              "1        0          PC 17599  71.2833  ...          False               False   \n",
              "2        0  STON/O2. 3101282   7.9250  ...          False               False   \n",
              "3        0            113803  53.1000  ...          False               False   \n",
              "4        0            373450   8.0500  ...          False               False   \n",
              "..     ...               ...      ...  ...            ...                 ...   \n",
              "886      0            211536  13.0000  ...          False               False   \n",
              "887      0            112053  30.0000  ...          False               False   \n",
              "888      2        W./C. 6607  23.4500  ...          False               False   \n",
              "889      0            111369  30.0000  ...          False               False   \n",
              "890      0            370376   7.7500  ...          False               False   \n",
              "\n",
              "     AgeGroup_Средний возраст  AgeGroup_От 30 до 50  AgeGroup_Больше 50  \\\n",
              "0                        True                 False               False   \n",
              "1                       False                  True               False   \n",
              "2                        True                 False               False   \n",
              "3                       False                  True               False   \n",
              "4                       False                  True               False   \n",
              "..                        ...                   ...                 ...   \n",
              "886                      True                 False               False   \n",
              "887                      True                 False               False   \n",
              "888                     False                 False               False   \n",
              "889                      True                 False               False   \n",
              "890                     False                  True               False   \n",
              "\n",
              "     AgeGroup_Дети  AgeGroup_Подростки  AgeGroup_Средний возраст  \\\n",
              "0            False               False                      True   \n",
              "1            False               False                     False   \n",
              "2            False               False                      True   \n",
              "3            False               False                     False   \n",
              "4            False               False                     False   \n",
              "..             ...                 ...                       ...   \n",
              "886          False               False                      True   \n",
              "887          False               False                      True   \n",
              "888          False               False                     False   \n",
              "889          False               False                      True   \n",
              "890          False               False                     False   \n",
              "\n",
              "     AgeGroup_От 30 до 50  AgeGroup_Больше 50  \n",
              "0                   False               False  \n",
              "1                    True               False  \n",
              "2                   False               False  \n",
              "3                    True               False  \n",
              "4                    True               False  \n",
              "..                    ...                 ...  \n",
              "886                 False               False  \n",
              "887                 False               False  \n",
              "888                 False               False  \n",
              "889                 False               False  \n",
              "890                  True               False  \n",
              "\n",
              "[891 rows x 22 columns]"
            ]
          },
          "execution_count": 317,
          "metadata": {},
          "output_type": "execute_result"
        }
      ],
      "source": [
        "train_data"
      ]
    },
    {
      "cell_type": "code",
      "execution_count": 319,
      "metadata": {},
      "outputs": [],
      "source": [
        "from sklearn.preprocessing import LabelEncoder\n",
        "label_encoder = LabelEncoder()\n",
        "train_data['Sex'] = label_encoder.fit_transform(train_data['Sex'])"
      ]
    },
    {
      "cell_type": "code",
      "execution_count": 320,
      "metadata": {},
      "outputs": [
        {
          "data": {
            "text/plain": [
              "0      1\n",
              "1      0\n",
              "2      0\n",
              "3      0\n",
              "4      1\n",
              "      ..\n",
              "886    1\n",
              "887    0\n",
              "888    0\n",
              "889    1\n",
              "890    1\n",
              "Name: Sex, Length: 891, dtype: int64"
            ]
          },
          "execution_count": 320,
          "metadata": {},
          "output_type": "execute_result"
        }
      ],
      "source": [
        "train_data['Sex']"
      ]
    },
    {
      "cell_type": "code",
      "execution_count": 323,
      "metadata": {},
      "outputs": [
        {
          "name": "stdout",
          "output_type": "stream",
          "text": [
            "              Survived\n",
            "FareCategory          \n",
            "Дешево        0.199405\n",
            "Умеренно      0.425397\n",
            "Средне        0.500000\n",
            "Дорого        0.623188\n",
            "Очень дорого  0.735849\n"
          ]
        },
        {
          "name": "stderr",
          "output_type": "stream",
          "text": [
            "/tmp/ipykernel_14013/1357856052.py:5: FutureWarning: The default of observed=False is deprecated and will be changed to True in a future version of pandas. Pass observed=False to retain current behavior or observed=True to adopt the future default and silence this warning.\n",
            "  correlation = train_data[['FareCategory', 'Survived']].groupby('FareCategory').mean()\n"
          ]
        }
      ],
      "source": [
        "fare_bins = [0, 10, 30, 60, 100, float('inf')]\n",
        "fare_labels = ['Дешево', 'Умеренно', 'Средне', 'Дорого', 'Очень дорого']\n",
        "train_data['FareCategory'] = pd.cut(train_data['Fare'], bins=fare_bins, labels=fare_labels, right=False)\n",
        "\n",
        "correlation = train_data[['FareCategory', 'Survived']].groupby('FareCategory').mean()\n",
        "print(correlation)\n",
        "\n",
        "train_data = pd.get_dummies(train_data, columns=['FareCategory'], prefix='FareCategory')"
      ]
    },
    {
      "cell_type": "code",
      "execution_count": 61,
      "metadata": {
        "id": "_6GkXyKGZiMy"
      },
      "outputs": [],
      "source": [
        "from sklearn.model_selection import train_test_split\n",
        "\n",
        "selected_features = ['AgeGroup_Дети', 'AgeGroup_Подростки', 'AgeGroup_Средний возраст', 'AgeGroup_От 30 до 50', 'AgeGroup_Больше 50', 'FareCategory_Дешево', 'FareCategory_Умеренно', 'FareCategory_Средне', 'FareCategory_Дорого', 'FareCategory_Очень дорого', 'Sex']\n",
        "selected_data = train_data[selected_features]\n",
        "target = train_data['Survived']\n",
        "\n",
        "X_train, X_val, y_train, y_val = train_test_split(selected_data, target, test_size=0.2, random_state=42)"
      ]
    },
    {
      "cell_type": "code",
      "execution_count": 108,
      "metadata": {},
      "outputs": [
        {
          "name": "stdout",
          "output_type": "stream",
          "text": [
            "<class 'pandas.core.frame.DataFrame'>\n",
            "Index: 712 entries, 331 to 102\n",
            "Data columns (total 31 columns):\n",
            " #   Column                     Non-Null Count  Dtype\n",
            "---  ------                     --------------  -----\n",
            " 0   AgeGroup_Дети              712 non-null    bool \n",
            " 1   AgeGroup_Дети              712 non-null    bool \n",
            " 2   AgeGroup_Дети              712 non-null    bool \n",
            " 3   AgeGroup_Дети              712 non-null    bool \n",
            " 4   AgeGroup_Подростки         712 non-null    bool \n",
            " 5   AgeGroup_Подростки         712 non-null    bool \n",
            " 6   AgeGroup_Подростки         712 non-null    bool \n",
            " 7   AgeGroup_Подростки         712 non-null    bool \n",
            " 8   AgeGroup_Средний возраст   712 non-null    bool \n",
            " 9   AgeGroup_Средний возраст   712 non-null    bool \n",
            " 10  AgeGroup_Средний возраст   712 non-null    bool \n",
            " 11  AgeGroup_Средний возраст   712 non-null    bool \n",
            " 12  AgeGroup_От 30 до 50       712 non-null    bool \n",
            " 13  AgeGroup_От 30 до 50       712 non-null    bool \n",
            " 14  AgeGroup_От 30 до 50       712 non-null    bool \n",
            " 15  AgeGroup_От 30 до 50       712 non-null    bool \n",
            " 16  AgeGroup_Больше 50         712 non-null    bool \n",
            " 17  AgeGroup_Больше 50         712 non-null    bool \n",
            " 18  AgeGroup_Больше 50         712 non-null    bool \n",
            " 19  AgeGroup_Больше 50         712 non-null    bool \n",
            " 20  FareCategory_Дешево        712 non-null    bool \n",
            " 21  FareCategory_Дешево        712 non-null    bool \n",
            " 22  FareCategory_Умеренно      712 non-null    bool \n",
            " 23  FareCategory_Умеренно      712 non-null    bool \n",
            " 24  FareCategory_Средне        712 non-null    bool \n",
            " 25  FareCategory_Средне        712 non-null    bool \n",
            " 26  FareCategory_Дорого        712 non-null    bool \n",
            " 27  FareCategory_Дорого        712 non-null    bool \n",
            " 28  FareCategory_Очень дорого  712 non-null    bool \n",
            " 29  FareCategory_Очень дорого  712 non-null    bool \n",
            " 30  Sex                        712 non-null    int64\n",
            "dtypes: bool(30), int64(1)\n",
            "memory usage: 32.0 KB\n"
          ]
        }
      ],
      "source": [
        "X_train.info()"
      ]
    },
    {
      "cell_type": "code",
      "execution_count": 62,
      "metadata": {},
      "outputs": [
        {
          "data": {
            "text/plain": [
              "(712, 31)"
            ]
          },
          "metadata": {},
          "output_type": "display_data"
        },
        {
          "data": {
            "text/plain": [
              "(179, 31)"
            ]
          },
          "metadata": {},
          "output_type": "display_data"
        },
        {
          "data": {
            "text/plain": [
              "(712,)"
            ]
          },
          "metadata": {},
          "output_type": "display_data"
        },
        {
          "data": {
            "text/plain": [
              "(179,)"
            ]
          },
          "metadata": {},
          "output_type": "display_data"
        }
      ],
      "source": [
        "display(X_train.shape, X_val.shape, y_train.shape, y_val.shape)"
      ]
    },
    {
      "cell_type": "markdown",
      "metadata": {
        "id": "9Hpb-KlSZVMy"
      },
      "source": [
        "## 6. Построение базовой модели:"
      ]
    },
    {
      "cell_type": "code",
      "execution_count": 63,
      "metadata": {},
      "outputs": [],
      "source": [
        "from sklearn.ensemble import RandomForestClassifier\n",
        "model = RandomForestClassifier(n_estimators=100, random_state=42)\n",
        "\n",
        "model.fit(X_train, y_train)\n",
        "\n",
        "y_pred = model.predict(X_val)"
      ]
    },
    {
      "cell_type": "markdown",
      "metadata": {
        "id": "n-W1QwERZ8Gn"
      },
      "source": [
        "## 7. Оценка точности модели:"
      ]
    },
    {
      "cell_type": "markdown",
      "metadata": {
        "id": "uDy7Y4E4am69"
      },
      "source": [
        "### 7.1. Напишите функцию, принимающую на вход аргументы y_pred, y_test и выполняющую визуализацию матрицы ошибок и отчета классификации"
      ]
    },
    {
      "cell_type": "code",
      "execution_count": 64,
      "metadata": {
        "id": "O9h6cWIrZ9Le"
      },
      "outputs": [],
      "source": [
        "from sklearn.metrics import confusion_matrix, classification_report\n",
        "import seaborn as sns\n",
        "import matplotlib.pyplot as plt\n",
        "\n",
        "def plot_confusion_matrix(y_pred, y_test):\n",
        "    cm = confusion_matrix(y_test, y_pred)\n",
        "    plt.figure(figsize=(8, 6))\n",
        "    sns.heatmap(cm, annot=True, fmt='d', cmap='Blues', linewidths=.5, cbar=False, annot_kws={\"size\": 16})\n",
        "    plt.xlabel('Предсказанные значения')\n",
        "    plt.ylabel('Истинные значения')\n",
        "    plt.title('Матрица ошибок')\n",
        "    plt.show()\n",
        "  \n",
        "    report = classification_report(y_test, y_pred)\n",
        "    print(\"Отчет классификации:\")\n",
        "    print(report)"
      ]
    },
    {
      "cell_type": "markdown",
      "metadata": {
        "id": "i41JeZ4jatU3"
      },
      "source": [
        "### 7.2. Оцените точность модели:"
      ]
    },
    {
      "cell_type": "code",
      "execution_count": 65,
      "metadata": {
        "id": "J6mnzmr-a55M"
      },
      "outputs": [
        {
          "data": {
            "image/png": "[encoded data removed]",
            "text/plain": [
              "<Figure size 800x600 with 1 Axes>"
            ]
          },
          "metadata": {},
          "output_type": "display_data"
        },
        {
          "name": "stdout",
          "output_type": "stream",
          "text": [
            "Отчет классификации:\n",
            "              precision    recall  f1-score   support\n",
            "\n",
            "           0       0.75      0.85      0.80       105\n",
            "           1       0.74      0.61      0.67        74\n",
            "\n",
            "    accuracy                           0.75       179\n",
            "   macro avg       0.75      0.73      0.73       179\n",
            "weighted avg       0.75      0.75      0.74       179\n",
            "\n"
          ]
        }
      ],
      "source": [
        "plot_confusion_matrix(y_pred, y_test)"
      ]
    },
    {
      "cell_type": "markdown",
      "metadata": {
        "id": "mGpNzrqKa-o-"
      },
      "source": [
        "## 8. Тюнинг гиперпараметров модели:"
      ]
    },
    {
      "cell_type": "markdown",
      "metadata": {
        "id": "ev_8vFTUbIQC"
      },
      "source": [
        "RandomSearchCV"
      ]
    },
    {
      "cell_type": "code",
      "execution_count": 66,
      "metadata": {
        "id": "-KrLGqfEbFj6"
      },
      "outputs": [
        {
          "name": "stdout",
          "output_type": "stream",
          "text": [
            "Наилучшие гиперпараметры: {'max_depth': 47, 'min_samples_leaf': 6, 'min_samples_split': 14, 'n_estimators': 51}\n",
            "Наилучший результат: 79.22%\n"
          ]
        }
      ],
      "source": [
        "from sklearn.ensemble import RandomForestClassifier\n",
        "from sklearn.model_selection import RandomizedSearchCV\n",
        "import scipy.stats\n",
        "\n",
        "param_dist = {\n",
        "    'n_estimators': scipy.stats.randint(1, 200),\n",
        "    'max_depth': scipy.stats.randint(10, 100),\n",
        "    'min_samples_split': scipy.stats.randint(2, 20),\n",
        "    'min_samples_leaf': scipy.stats.randint(1, 10)\n",
        "}\n",
        "\n",
        "rf = RandomForestClassifier()\n",
        "random_search = RandomizedSearchCV(\n",
        "    estimator=rf, \n",
        "    param_distributions=param_dist, \n",
        "    n_iter=100, \n",
        "    cv=5, \n",
        "    scoring='accuracy', \n",
        "    random_state=42\n",
        ")\n",
        "\n",
        "random_search.fit(X_train, y_train)\n",
        "\n",
        "best_params = random_search.best_params_\n",
        "best_score = random_search.best_score_\n",
        "\n",
        "print(f'Наилучшие гиперпараметры: {best_params}')\n",
        "best_score_percent = best_score * 100\n",
        "print(f'Наилучший результат: {best_score_percent:.2f}%')"
      ]
    },
    {
      "cell_type": "markdown",
      "metadata": {
        "id": "yfHfNr8mbJGg"
      },
      "source": [
        "GridSearchCV"
      ]
    },
    {
      "cell_type": "code",
      "execution_count": 67,
      "metadata": {
        "id": "LelJW7VdbKCu"
      },
      "outputs": [
        {
          "name": "stdout",
          "output_type": "stream",
          "text": [
            "Наилучший результат 79.35% с параметрами {'max_depth': 20, 'min_samples_leaf': 4, 'min_samples_split': 5, 'n_estimators': 150}\n"
          ]
        }
      ],
      "source": [
        "from sklearn.ensemble import RandomForestClassifier\n",
        "from sklearn.model_selection import GridSearchCV\n",
        "\n",
        "param_grid = {\n",
        "    'n_estimators': [10,25, 50, 75, 100, 150],\n",
        "    'max_depth': [5,10, 20, 30],\n",
        "    'min_samples_split': [2, 5, 10],\n",
        "    'min_samples_leaf': [1, 2, 4, 6]\n",
        "}\n",
        "\n",
        "rf = RandomForestClassifier()\n",
        "\n",
        "grid_search = GridSearchCV(estimator=rf, param_grid=param_grid, cv=5, scoring='accuracy')\n",
        "\n",
        "grid_search.fit(X_train, y_train)\n",
        "\n",
        "best_params = grid_search.best_params_\n",
        "best_score = grid_search.best_score_\n",
        "\n",
        "best_score_percent = best_score * 100\n",
        "print(f'Наилучший результат {best_score_percent:.2f}% с параметрами {best_params}')"
      ]
    },
    {
      "cell_type": "markdown",
      "metadata": {
        "id": "e8ilf308rPB8"
      },
      "source": [
        "## 9. Оценка лучшей модели:"
      ]
    },
    {
      "cell_type": "code",
      "execution_count": 68,
      "metadata": {
        "id": "Bg61rmBGrU94"
      },
      "outputs": [
        {
          "data": {
            "text/html": [
              "<style>#sk-container-id-1 {color: black;}#sk-container-id-1 pre{padding: 0;}#sk-container-id-1 div.sk-toggleable {background-color: white;}#sk-container-id-1 label.sk-toggleable__label {cursor: pointer;display: block;width: 100%;margin-bottom: 0;padding: 0.3em;box-sizing: border-box;text-align: center;}#sk-container-id-1 label.sk-toggleable__label-arrow:before {content: \"▸\";float: left;margin-right: 0.25em;color: #696969;}#sk-container-id-1 label.sk-toggleable__label-arrow:hover:before {color: black;}#sk-container-id-1 div.sk-estimator:hover label.sk-toggleable__label-arrow:before {color: black;}#sk-container-id-1 div.sk-toggleable__content {max-height: 0;max-width: 0;overflow: hidden;text-align: left;background-color: #f0f8ff;}#sk-container-id-1 div.sk-toggleable__content pre {margin: 0.2em;color: black;border-radius: 0.25em;background-color: #f0f8ff;}#sk-container-id-1 input.sk-toggleable__control:checked~div.sk-toggleable__content {max-height: 200px;max-width: 100%;overflow: auto;}#sk-container-id-1 input.sk-toggleable__control:checked~label.sk-toggleable__label-arrow:before {content: \"▾\";}#sk-container-id-1 div.sk-estimator input.sk-toggleable__control:checked~label.sk-toggleable__label {background-color: #d4ebff;}#sk-container-id-1 div.sk-label input.sk-toggleable__control:checked~label.sk-toggleable__label {background-color: #d4ebff;}#sk-container-id-1 input.sk-hidden--visually {border: 0;clip: rect(1px 1px 1px 1px);clip: rect(1px, 1px, 1px, 1px);height: 1px;margin: -1px;overflow: hidden;padding: 0;position: absolute;width: 1px;}#sk-container-id-1 div.sk-estimator {font-family: monospace;background-color: #f0f8ff;border: 1px dotted black;border-radius: 0.25em;box-sizing: border-box;margin-bottom: 0.5em;}#sk-container-id-1 div.sk-estimator:hover {background-color: #d4ebff;}#sk-container-id-1 div.sk-parallel-item::after {content: \"\";width: 100%;border-bottom: 1px solid gray;flex-grow: 1;}#sk-container-id-1 div.sk-label:hover label.sk-toggleable__label {background-color: #d4ebff;}#sk-container-id-1 div.sk-serial::before {content: \"\";position: absolute;border-left: 1px solid gray;box-sizing: border-box;top: 0;bottom: 0;left: 50%;z-index: 0;}#sk-container-id-1 div.sk-serial {display: flex;flex-direction: column;align-items: center;background-color: white;padding-right: 0.2em;padding-left: 0.2em;position: relative;}#sk-container-id-1 div.sk-item {position: relative;z-index: 1;}#sk-container-id-1 div.sk-parallel {display: flex;align-items: stretch;justify-content: center;background-color: white;position: relative;}#sk-container-id-1 div.sk-item::before, #sk-container-id-1 div.sk-parallel-item::before {content: \"\";position: absolute;border-left: 1px solid gray;box-sizing: border-box;top: 0;bottom: 0;left: 50%;z-index: -1;}#sk-container-id-1 div.sk-parallel-item {display: flex;flex-direction: column;z-index: 1;position: relative;background-color: white;}#sk-container-id-1 div.sk-parallel-item:first-child::after {align-self: flex-end;width: 50%;}#sk-container-id-1 div.sk-parallel-item:last-child::after {align-self: flex-start;width: 50%;}#sk-container-id-1 div.sk-parallel-item:only-child::after {width: 0;}#sk-container-id-1 div.sk-dashed-wrapped {border: 1px dashed gray;margin: 0 0.4em 0.5em 0.4em;box-sizing: border-box;padding-bottom: 0.4em;background-color: white;}#sk-container-id-1 div.sk-label label {font-family: monospace;font-weight: bold;display: inline-block;line-height: 1.2em;}#sk-container-id-1 div.sk-label-container {text-align: center;}#sk-container-id-1 div.sk-container {/* jupyter's `normalize.less` sets `[hidden] { display: none; }` but bootstrap.min.css set `[hidden] { display: none !important; }` so we also need the `!important` here to be able to override the default hidden behavior on the sphinx rendered scikit-learn.org. See: https://github.com/scikit-learn/scikit-learn/issues/21755 */display: inline-block !important;position: relative;}#sk-container-id-1 div.sk-text-repr-fallback {display: none;}</style><div id=\"sk-container-id-1\" class=\"sk-top-container\"><div class=\"sk-text-repr-fallback\"><pre>RandomForestClassifier(max_depth=10, min_samples_leaf=4, min_samples_split=10,\n",
              "                       n_estimators=10)</pre><b>In a Jupyter environment, please rerun this cell to show the HTML representation or trust the notebook. <br />On GitHub, the HTML representation is unable to render, please try loading this page with nbviewer.org.</b></div><div class=\"sk-container\" hidden><div class=\"sk-item\"><div class=\"sk-estimator sk-toggleable\"><input class=\"sk-toggleable__control sk-hidden--visually\" id=\"sk-estimator-id-1\" type=\"checkbox\" checked><label for=\"sk-estimator-id-1\" class=\"sk-toggleable__label sk-toggleable__label-arrow\">RandomForestClassifier</label><div class=\"sk-toggleable__content\"><pre>RandomForestClassifier(max_depth=10, min_samples_leaf=4, min_samples_split=10,\n",
              "                       n_estimators=10)</pre></div></div></div></div></div>"
            ],
            "text/plain": [
              "RandomForestClassifier(max_depth=10, min_samples_leaf=4, min_samples_split=10,\n",
              "                       n_estimators=10)"
            ]
          },
          "execution_count": 68,
          "metadata": {},
          "output_type": "execute_result"
        }
      ],
      "source": [
        "from sklearn.ensemble import RandomForestClassifier\n",
        "\n",
        "rf_params = {\n",
        "    'max_depth': 10, \n",
        "    'min_samples_leaf': 4, \n",
        "    'min_samples_split': 10, \n",
        "    'n_estimators': 10\n",
        "}\n",
        "\n",
        "custom_rf_model = RandomForestClassifier(**rf_params)\n",
        "custom_rf_model.fit(X_train, y_train)"
      ]
    },
    {
      "cell_type": "code",
      "execution_count": 69,
      "metadata": {},
      "outputs": [
        {
          "data": {
            "image/png": "[encoded data removed]",
            "text/plain": [
              "<Figure size 800x600 with 1 Axes>"
            ]
          },
          "metadata": {},
          "output_type": "display_data"
        },
        {
          "name": "stdout",
          "output_type": "stream",
          "text": [
            "Отчет классификации:\n",
            "              precision    recall  f1-score   support\n",
            "\n",
            "           0       0.77      0.82      0.80       105\n",
            "           1       0.72      0.66      0.69        74\n",
            "\n",
            "    accuracy                           0.75       179\n",
            "   macro avg       0.75      0.74      0.74       179\n",
            "weighted avg       0.75      0.75      0.75       179\n",
            "\n"
          ]
        }
      ],
      "source": [
        "y_pred = custom_rf_model.predict(X_val)\n",
        "plot_confusion_matrix(y_pred, y_test)"
      ]
    },
    {
      "cell_type": "markdown",
      "metadata": {
        "id": "6yaKkCFGrbcK"
      },
      "source": [
        "# Задание 2. Решите задачу из предыдущего пункта используя другие, ранее пройденные классификаторы. Сравните их точность предсказания с Random Forest"
      ]
    },
    {
      "cell_type": "code",
      "execution_count": 70,
      "metadata": {
        "id": "L6NtNp3Pr7IT"
      },
      "outputs": [
        {
          "name": "stdout",
          "output_type": "stream",
          "text": [
            "Наилучшие гиперпараметры для DecisionTreeClassifier: {'criterion': 'gini', 'max_depth': 5, 'max_features': None, 'min_samples_leaf': 4, 'min_samples_split': 2}\n",
            "Наилучший результат: 79.77%\n"
          ]
        }
      ],
      "source": [
        "from sklearn.tree import DecisionTreeClassifier\n",
        "from sklearn.model_selection import GridSearchCV\n",
        "\n",
        "tree_model = DecisionTreeClassifier()\n",
        "param_grid = {\n",
        "    'criterion': ['gini', 'entropy'],\n",
        "    'max_depth': [None,3, 5,10, 20, 30],\n",
        "    'min_samples_split': [2, 5, 10],\n",
        "    'min_samples_leaf': [1, 2, 4,8],\n",
        "    'max_features': ['sqrt', 'log2',None],\n",
        "}\n",
        "\n",
        "grid_search_tree = GridSearchCV(estimator=tree_model, param_grid=param_grid, cv=5, scoring='accuracy')\n",
        "grid_search_tree.fit(X_train, y_train)\n",
        "\n",
        "best_params_tree = grid_search_tree.best_params_\n",
        "best_score_tree = grid_search_tree.best_score_\n",
        "\n",
        "best_tree_model = DecisionTreeClassifier(**best_params_tree)\n",
        "best_tree_model.fit(X_train, y_train)\n",
        "\n",
        "print(f'Наилучшие гиперпараметры для DecisionTreeClassifier: {best_params_tree}')\n",
        "best_score_tree_percent = best_score_tree * 100\n",
        "print(f'Наилучший результат: {best_score_tree_percent:.2f}%')\n"
      ]
    },
    {
      "cell_type": "markdown",
      "metadata": {
        "id": "Ok4UVapNuBEr"
      },
      "source": [
        "# Задание 2.1*. Реализуйте функцию, для взаимодействия с обученной Вами моделью\n",
        "\n",
        "* Функция должна принимать на вход обученную модель классификатора;\n",
        "\n",
        "* После вызова функции, у пользователя через консоль запрашиваются значения признаков. При запросе значений нужно вывести пояснения о типе и диапазоне возможных значений. Также реализуйте обработку исключений;\n",
        "\n",
        "* После ввода значений для всех признаков в консоль, выводится результат работы классификатора."
      ]
    },
    {
      "cell_type": "code",
      "execution_count": 457,
      "metadata": {
        "id": "R45z2E1KwT0M"
      },
      "outputs": [],
      "source": [
        "import numpy as np\n",
        "import pandas as pd\n",
        "\n",
        "def get_string_array(query: str, delim: str):\n",
        "    inp = ''\n",
        "    while True:\n",
        "        inp = input(query + f'[delimiter: {delim}]')\n",
        "\n",
        "        if inp == 'stop':\n",
        "            return 'stop'\n",
        "\n",
        "        try:\n",
        "            res = [x.strip() for x in inp.split(delim)]\n",
        "            if len(res) != 0:\n",
        "                return res\n",
        "        except:\n",
        "            print(\"Couldn't get array of strings\")\n",
        "\n",
        "def get_yes_no(query: str):\n",
        "    inp = input(query)\n",
        "\n",
        "    if inp != 'yes':\n",
        "        print('Aborting')\n",
        "        return False\n",
        "    return True\n",
        "\n",
        "def get_int_array(query: str, delim: str):\n",
        "    inp = ''\n",
        "    while True:\n",
        "        inp = input(query + f'[delimiter: {delim}]')\n",
        "\n",
        "        if inp == 'stop':\n",
        "            return 'stop'\n",
        "\n",
        "        try:\n",
        "            res = [int(x) for x in inp.split(delim)]\n",
        "            if len(res) != 0:\n",
        "                return res\n",
        "        except:\n",
        "            print(\"Couldn't get array of int\")\n",
        "\n",
        "supported_types = {\n",
        "    'str': str, \n",
        "    'int': int, \n",
        "    'float': float, \n",
        "    'bool': bool\n",
        "}\n",
        "def get_type_input(query: str):\n",
        "    inp = ''\n",
        "    while True:\n",
        "        inp = input(query + f'Supported types: {\", \".join(supported_types)}')\n",
        "\n",
        "        if inp == 'stop':\n",
        "            return None\n",
        "\n",
        "        if inp in supported_types.keys():\n",
        "            return supported_types[inp]\n",
        "\n",
        "        print('Invalid type')\n",
        "\n",
        "def get_float(query: str):\n",
        "    inp = ''\n",
        "    while True:\n",
        "        inp = input(query)\n",
        "\n",
        "        if inp == 'stop':\n",
        "            return None\n",
        "\n",
        "        if inp != None and len(inp) != 0:\n",
        "            if inp.isdecimal():\n",
        "                return float(inp)\n",
        "        \n",
        "        print('Invalid float')\n",
        "\n",
        "def get_int(query: str):\n",
        "    inp = ''\n",
        "    while True:\n",
        "        inp = input(query)\n",
        "\n",
        "        if inp == 'stop':\n",
        "            return None\n",
        "\n",
        "        if inp != None and len(inp) != 0:\n",
        "            if inp.isdigit():\n",
        "                return int(inp)\n",
        "        \n",
        "        print('Invalid int')\n",
        "\n",
        "def get_ne_string(query: str):\n",
        "    inp = ''\n",
        "    while True:\n",
        "        inp = input(query)\n",
        "\n",
        "        if inp == 'stop':\n",
        "            return None\n",
        "\n",
        "        if inp != None and len(inp) != 0:\n",
        "            return inp\n",
        "        \n",
        "        print('Invalid string')\n",
        "\n",
        "# Костыль, т.к. отсутсвует явный конструктор у dtype\n",
        "# Для того, чтобы преобразовать динамически элемент \n",
        "# к нужному типу, мы делаем следующее:\n",
        "#\n",
        "# 1.   Получаем строковый ввод. Берем нужную колонку, получаем из неё dtype\n",
        "# 1.1. Если тип строка - игнорируем преобразования и возвращаем всё как есть\n",
        "# 2.   Создаем NumPy массив с нужным типом. Массив умеет сам конвертировать значения, \n",
        "# или же нам выкинет ошибку\n",
        "# 3.   Берем первый элемент массива\n",
        "def str_to_col_type(inp: str, dt: np.dtype):\n",
        "    # We assume that object is string\n",
        "    if dt.name == 'object':\n",
        "        inp = inp.rstrip(\"'\").lstrip(\"'\")\n",
        "        return inp\n",
        "    \n",
        "    return np.array([inp], dtype=dt)[0]\n",
        "\n",
        "# ---------------------------------\n",
        "# DEFAULT SHAPE (0) FOR ALL ARRAYS\n",
        "# ---------------------------------\n",
        "# def get_shape(query: str):\n",
        "#     inp = ''\n",
        "#     while True:\n",
        "#         inp = input(query)\n",
        "\n",
        "#         if inp == 'stop':\n",
        "#             return None\n",
        "        \n",
        "#         try:\n",
        "#             inp = inp.lstrip('(').rstrip(')')\n",
        "            \n",
        "#             print(f'input shape: {inp}')\n",
        "#             res = tuple([int(x) for x in inp.split(',')])\n",
        "#             if len(res) != 0:\n",
        "#                 return res\n",
        "#         except:\n",
        "#             print(\"Couldn't get tuple\")\n",
        "\n",
        "class DataInputManager():\n",
        "    dataset = pd.DataFrame()\n",
        "    df_col_preprocess = dict()\n",
        "    commands = dict()\n",
        "    target_column = ''\n",
        "    # train_split_ratio = 0.1\n",
        "\n",
        "    def try_run(self, command):\n",
        "        if command not in self.commands.keys():\n",
        "            print('No such command')\n",
        "        \n",
        "        try:\n",
        "            self.commands[command]['runner'](self)\n",
        "        except Exception as e:\n",
        "            print(f'Error: {e}. Aborting')\n",
        "\n",
        "    def help(self):\n",
        "        for key, value in self.commands.items():\n",
        "            print(f\"Command: {key}, description: {value['description']}\")\n",
        "\n",
        "    def info(self):\n",
        "        assert len(self.dataset.columns) != 0, 'No data'\n",
        "        print(self.dataset.info())\n",
        "        for col in self.dataset.columns:\n",
        "            prep_info = self.df_col_preprocess[col]\n",
        "            if prep_info['type'] == 'Range':\n",
        "                print(f\"{prep_info['column']} bounds: {prep_info['bounds']}\")\n",
        "\n",
        "    def head(self):\n",
        "        assert len(self.dataset.columns) != 0, 'No data'\n",
        "        display(self.dataset.head())\n",
        "\n",
        "    def select_target(self):\n",
        "        assert len(self.dataset.columns) != 0, 'No data'\n",
        "\n",
        "        inp = ''\n",
        "        while inp != 'stop':\n",
        "            print(f'Available columns:')\n",
        "            for col in self.dataset.columns.array:\n",
        "                print(col)\n",
        "\n",
        "            inp = input('Enter name of column: [stop]') \n",
        "            if inp in self.dataset.columns:\n",
        "                print(f'Selected {inp}')\n",
        "                self.target_column = inp\n",
        "                return\n",
        "            \n",
        "            print('Invalid column name')\n",
        "\n",
        "        if inp == 'stop':\n",
        "            print('Canceled')\n",
        "\n",
        "    def create(self):\n",
        "        cols = get_string_array('Enter column names, separeted by comma', ',')\n",
        "        if cols == ['stop']:\n",
        "            print('Cancelled')\n",
        "            return\n",
        "        assert len(cols) == len(set(cols)), 'Duplicates exists'\n",
        "        col_types = []\n",
        "        for col in cols:\n",
        "            col_type = get_type_input(f'Inter type for {col}: ')\n",
        "            col_types.append(col_type)\n",
        "        \n",
        "        assert len(col_types) == len(cols), 'Column names and column types count do not match'\n",
        "        print(cols, col_types)\n",
        "        for col, typ in zip(cols, col_types):\n",
        "            if typ == str:\n",
        "                self.df_col_preprocess[col] = {\n",
        "                    'column': col,\n",
        "                    'type': 'LabelEncoder'\n",
        "                }\n",
        "            elif typ == int:\n",
        "                bounds = get_int_array('Enter ranges boundries', ',')\n",
        "                labels = get_string_array('Enter ranges bounds labels', ',')\n",
        "\n",
        "                assert len(bounds) == len(labels), 'Ranges boundries array length and labels array length do not match'\n",
        "\n",
        "                add_inf_bounds = get_yes_no('Add float(\"-inf\")/float(\"inf\") at the start and at the end of range?')\n",
        "                if add_inf_bounds:\n",
        "                    bounds = [float('-inf')] + bounds + [float('inf')]\n",
        "                    border_labels = get_string_array('Enter label for first and last element (must be 2 elements):', ',')\n",
        "                    assert len(border_labels) == 2, f'Expected 2 elements. Entered: {len(border_labels)}'\n",
        "                    labels = [border_labels[0]] + labels + [border_labels[-1]]\n",
        "                    assert len(bounds) == len(labels), 'Ranges boundries array length and labels array length do not match (after inf append)'\n",
        "\n",
        "                self.df_col_preprocess[col] = {\n",
        "                    'column': col,\n",
        "                    'type': 'Range',\n",
        "                    'bounds': bounds,\n",
        "                    'labels': labels\n",
        "                }\n",
        "            new_series = pd.Series(np.empty(dtype=typ, shape=(0,)))\n",
        "            self.dataset[col] = new_series\n",
        "\n",
        "    def clear_dataset(self):\n",
        "        if get_yes_no(\"Are you sure? [no]\"):\n",
        "            self.dataset = pd.DataFrame()\n",
        "            print('Done')\n",
        "            return\n",
        "        \n",
        "        print('Aborting')\n",
        "\n",
        "    def add_rows(self):\n",
        "        assert len(self.dataset.columns) != 0, 'No data'\n",
        "\n",
        "        inp = ''\n",
        "        while inp != 'stop':\n",
        "            inp = get_string_array('Enter row values separated by ;', ';')\n",
        "\n",
        "            if inp == 'stop':\n",
        "                print('Stopping rows input')\n",
        "                return\n",
        "\n",
        "            if inp is None or len(inp) == 0:\n",
        "                print('Empty input')\n",
        "                continue\n",
        "\n",
        "            if len(inp) != len(self.dataset.columns):\n",
        "                print('Length of input row does not match to dataset columns count')\n",
        "                continue\n",
        "\n",
        "            row_els = []\n",
        "            dataset_types = [self.dataset[col].dtype for col in self.dataset.columns]\n",
        "            for el, col_type in zip(inp, dataset_types):\n",
        "                converted_el = str_to_col_type(el, np.dtype(col_type))\n",
        "                row_els.append(converted_el)\n",
        "\n",
        "            self.dataset.loc[len(self.dataset)] = row_els\n",
        "\n",
        "    # def set_train_split_ratio(self):\n",
        "    #     new_ratio = get_float()\n",
        "    #     if new_ratio is None:\n",
        "    #         print('Aborting')\n",
        "    #         return\n",
        "        \n",
        "    #     self.train_split_ratio = new_ratio\n",
        "            \n",
        "\n",
        "    def preprocess(self):\n",
        "        assert len(self.dataset.columns) != 0, 'No data'\n",
        "        assert len(self.dataset) != 0, 'No values'\n",
        "        assert self.target_column != '', 'Target column not set'\n",
        "\n",
        "        features_columns = []\n",
        "\n",
        "        prep_dataset = self.dataset.copy()\n",
        "        for key, value in self.df_col_preprocess.items():\n",
        "            prep = self.df_col_preprocess[key]\n",
        "            column = prep['column']\n",
        "            if prep['type'] == 'LabelEncoder':\n",
        "                label_encoder = LabelEncoder()\n",
        "                prep_dataset[column] = label_encoder.fit_transform(prep_dataset[column])\n",
        "                features_columns.append(column)\n",
        "            elif prep['type'] == 'Range':\n",
        "                bounds = prep['bounds']\n",
        "                bounds_labels = prep['labels']\n",
        "                prep_dataset[column] = pd.cut(\n",
        "                    prep_dataset[column], \n",
        "                    bins=bounds, \n",
        "                    labels=bounds_labels, \n",
        "                    right=False\n",
        "                )\n",
        "                prep_dataset = pd.get_dummies(prep_dataset, columns=column, prefix=column)\n",
        "                new_columns = [x + '_' + y for x, y in zip(bounds_labels, bounds)]\n",
        "                features_columns.extend(new_columns)\n",
        "\n",
        "        # return train_test_split(\n",
        "        #     self.dataset, \n",
        "        #     self.dataset[self.target_column], \n",
        "        #     test_size=self.train_split_ratio\n",
        "        # )\n",
        "        features_columns.remove(self.target_column)\n",
        "        return prep_dataset[features_columns], prep_dataset[self.target_column]\n",
        "                \n",
        "    commands = {\n",
        "        'help': {\n",
        "            'description': 'Help command',\n",
        "            'runner': help\n",
        "        },\n",
        "\n",
        "        'info': {\n",
        "            'description': 'Print dataset info',\n",
        "            'runner': info\n",
        "        },\n",
        "\n",
        "        'head': {\n",
        "            'description': 'Print head of dataframe',\n",
        "            'runner': head\n",
        "        },\n",
        "\n",
        "        'select_target': {\n",
        "            'description': 'Select column which containes target values',\n",
        "            'runner': select_target\n",
        "        },\n",
        "        \n",
        "        'clear': {\n",
        "            'description': 'Clear current dataset',\n",
        "            'runner': clear_dataset\n",
        "        },\n",
        "\n",
        "        'create': {\n",
        "            'description': 'Create new dataframe with entered column names and dtypes',\n",
        "            'runner': create\n",
        "        },\n",
        "\n",
        "        'add': {\n",
        "            'description': 'Add rows to dataset',\n",
        "            'runner': add_rows\n",
        "        },\n",
        "\n",
        "        # 'set_split_ratio': {\n",
        "        #     'description': 'Set train and test split ratio',\n",
        "        #     'runner': set_train_split_ratio\n",
        "        # },\n",
        "\n",
        "        'preprocess': {\n",
        "            'description': 'Execute data preprocess and return train and test data',\n",
        "            'runner': preprocess\n",
        "        },\n",
        "    }"
      ]
    },
    {
      "cell_type": "code",
      "execution_count": 458,
      "metadata": {},
      "outputs": [],
      "source": [
        "proc = DataInputManager()"
      ]
    },
    {
      "cell_type": "code",
      "execution_count": 467,
      "metadata": {},
      "outputs": [],
      "source": [
        "from IPython.display import clear_output\n",
        "import time\n",
        "\n",
        "def input_and_classify(model):\n",
        "    inp = ''\n",
        "    while inp != 'stop':\n",
        "        inp = input('Enter command: ')\n",
        "        \n",
        "        clear_output(wait=True)\n",
        "\n",
        "        if inp == 'stop':\n",
        "            print('Stopping...')\n",
        "            return\n",
        "        \n",
        "        if inp == 'preprocess':\n",
        "            print('Starting preprocess')\n",
        "            break\n",
        "        \n",
        "        proc.try_run(inp)\n",
        "        time.sleep(0.2) # иначе не успевает отработать clear_output()\n",
        "\n",
        "    X_train, y_train = proc.preprocess()\n",
        "    y_pred = model.predict(X_train)\n",
        "    print(y_pred)\n",
        "    "
      ]
    },
    {
      "cell_type": "code",
      "execution_count": 460,
      "metadata": {},
      "outputs": [
        {
          "name": "stdout",
          "output_type": "stream",
          "text": [
            "Model accuracy score with 100 decision-trees : 0.7268\n"
          ]
        }
      ],
      "source": [
        "from sklearn.metrics import accuracy_score\n",
        "\n",
        "data = '../../data/car_evaluation/car_evaluation.csv'\n",
        "df = pd.read_csv(data, header=None)\n",
        "\n",
        "col_names = ['buying', 'maint', 'doors', 'persons', 'lug_boot', 'safety', 'class']\n",
        "df.columns = col_names\n",
        "\n",
        "# Уберем несколько меток, чтобы было проще вводить данные\n",
        "needed_col_names = ['buying', 'maint', 'safety', 'class']\n",
        "df = df[needed_col_names]\n",
        "\n",
        "X = df.drop(['class'], axis=1)\n",
        "y = df['class']\n",
        "\n",
        "X_train, X_test, y_train, y_test = train_test_split(X, y, test_size = 0.33, random_state = 42)\n",
        "\n",
        "le = LabelEncoder()\n",
        "for colsn in X_train.columns:\n",
        "    X_train[colsn] = le.fit_transform(X_train[colsn].astype(str))\n",
        "\n",
        "for colsn in X_test.columns:\n",
        "    X_test[colsn] = le.fit_transform(X_test[colsn].astype(str))\n",
        "\n",
        "rfc_100 = RandomForestClassifier(n_estimators=100, random_state=0)\n",
        "rfc_100.fit(X_train, y_train)\n",
        "y_pred_100 = rfc_100.predict(X_test)\n",
        "print('Model accuracy score with 100 decision-trees : {0:0.4f}'. format(accuracy_score(y_test, y_pred_100)))"
      ]
    },
    {
      "cell_type": "code",
      "execution_count": 461,
      "metadata": {},
      "outputs": [
        {
          "name": "stdout",
          "output_type": "stream",
          "text": [
            "buying\n",
            "vhigh    432\n",
            "high     432\n",
            "med      432\n",
            "low      432\n",
            "Name: count, dtype: int64\n",
            "maint\n",
            "vhigh    432\n",
            "high     432\n",
            "med      432\n",
            "low      432\n",
            "Name: count, dtype: int64\n",
            "safety\n",
            "low     576\n",
            "med     576\n",
            "high    576\n",
            "Name: count, dtype: int64\n",
            "class\n",
            "unacc    1210\n",
            "acc       384\n",
            "good       69\n",
            "vgood      65\n",
            "Name: count, dtype: int64\n"
          ]
        }
      ],
      "source": [
        "for col in df.columns:\n",
        "    print(df[col].value_counts())   "
      ]
    },
    {
      "cell_type": "code",
      "execution_count": 462,
      "metadata": {},
      "outputs": [
        {
          "name": "stdout",
          "output_type": "stream",
          "text": [
            "<class 'pandas.core.frame.DataFrame'>\n",
            "Index: 1157 entries, 48 to 1126\n",
            "Data columns (total 3 columns):\n",
            " #   Column  Non-Null Count  Dtype\n",
            "---  ------  --------------  -----\n",
            " 0   buying  1157 non-null   int64\n",
            " 1   maint   1157 non-null   int64\n",
            " 2   safety  1157 non-null   int64\n",
            "dtypes: int64(3)\n",
            "memory usage: 36.2 KB\n"
          ]
        }
      ],
      "source": [
        "X_train.info()"
      ]
    },
    {
      "cell_type": "code",
      "execution_count": 463,
      "metadata": {},
      "outputs": [
        {
          "data": {
            "text/html": [
              "<div>\n",
              "<style scoped>\n",
              "    .dataframe tbody tr th:only-of-type {\n",
              "        vertical-align: middle;\n",
              "    }\n",
              "\n",
              "    .dataframe tbody tr th {\n",
              "        vertical-align: top;\n",
              "    }\n",
              "\n",
              "    .dataframe thead th {\n",
              "        text-align: right;\n",
              "    }\n",
              "</style>\n",
              "<table border=\"1\" class=\"dataframe\">\n",
              "  <thead>\n",
              "    <tr style=\"text-align: right;\">\n",
              "      <th></th>\n",
              "      <th>buying</th>\n",
              "      <th>maint</th>\n",
              "      <th>safety</th>\n",
              "      <th>class</th>\n",
              "    </tr>\n",
              "  </thead>\n",
              "  <tbody>\n",
              "    <tr>\n",
              "      <th>0</th>\n",
              "      <td>vhigh</td>\n",
              "      <td>vhigh</td>\n",
              "      <td>low</td>\n",
              "      <td>unacc</td>\n",
              "    </tr>\n",
              "    <tr>\n",
              "      <th>1</th>\n",
              "      <td>vhigh</td>\n",
              "      <td>vhigh</td>\n",
              "      <td>med</td>\n",
              "      <td>unacc</td>\n",
              "    </tr>\n",
              "    <tr>\n",
              "      <th>2</th>\n",
              "      <td>vhigh</td>\n",
              "      <td>vhigh</td>\n",
              "      <td>high</td>\n",
              "      <td>unacc</td>\n",
              "    </tr>\n",
              "    <tr>\n",
              "      <th>3</th>\n",
              "      <td>vhigh</td>\n",
              "      <td>vhigh</td>\n",
              "      <td>low</td>\n",
              "      <td>unacc</td>\n",
              "    </tr>\n",
              "    <tr>\n",
              "      <th>4</th>\n",
              "      <td>vhigh</td>\n",
              "      <td>vhigh</td>\n",
              "      <td>med</td>\n",
              "      <td>unacc</td>\n",
              "    </tr>\n",
              "  </tbody>\n",
              "</table>\n",
              "</div>"
            ],
            "text/plain": [
              "  buying  maint safety  class\n",
              "0  vhigh  vhigh    low  unacc\n",
              "1  vhigh  vhigh    med  unacc\n",
              "2  vhigh  vhigh   high  unacc\n",
              "3  vhigh  vhigh    low  unacc\n",
              "4  vhigh  vhigh    med  unacc"
            ]
          },
          "execution_count": 463,
          "metadata": {},
          "output_type": "execute_result"
        }
      ],
      "source": [
        "df.head(5)"
      ]
    },
    {
      "cell_type": "markdown",
      "metadata": {},
      "source": [
        "Использование функции `input_and_classify(model)`:\n",
        "\n",
        "1. Вызвать команду `create`\n",
        "    - Ввести список нужных колонок через запятую (пример: `buying, maint, safety, class`)\n",
        "    - Для каждой колонки ввести тип\n",
        "        - Если тип `bool`: ничего делать не нужно;\n",
        "        - Если тип `str`: ничего делать не нужно, по умолчанию используется `LabelEncoder`;\n",
        "        - Если тип `int` или `float`: предложит через запятую ввести границы категорий для признака и метку для каждой категории. \n",
        "\n",
        "Таким образом будет создан `DataFrame` с заданными параметрами. Посмотреть его можно вызвав команды `info` и `head`.\n",
        "\n",
        "2. Вызвать команду `add`. Далее нужно через точку с запятой вводить соответствующие колонкам значения. Если вводимый тип строка - нужно обязательно заключить ввод в кавычки. (пример: `'vhigh';'vhigh';'low';'unacc'`).\n",
        "\n",
        "Значения можно вводить бесконечно долго. Остановить процесс можно вписав `stop`\n",
        "\n",
        "3. Задать колонку с целевыми зачениями через команду `set_target_column`. После вызова предложит ввести название нужной колонки\n",
        "\n",
        "4. Вызвать команду `preprocess`. Таким образом будут провежены все промежуточные этапы по предобработке `DataFrame`. Этоговый результат будет передан классификатору. Ячейка выведет результат работы классификатор\n",
        "\n",
        "Если объект `proc` не был проинициализирован заново (или ядро не было перезагружено), то можно продолжить ввод значений, запустив ячейку заново и вызвав команду `add`. \n",
        "\n",
        "Можно очистить введенный датасет вызвав команду `clear`. Необходимо подтвердить это действие, написав `yes`"
      ]
    },
    {
      "cell_type": "code",
      "execution_count": 468,
      "metadata": {},
      "outputs": [
        {
          "name": "stdout",
          "output_type": "stream",
          "text": [
            "Starting preprocess\n",
            "['acc']\n"
          ]
        }
      ],
      "source": [
        "input_and_classify(rfc_100)"
      ]
    },
    {
      "cell_type": "markdown",
      "metadata": {
        "id": "i2zOqwlts-2y"
      },
      "source": [
        "# Задание 3. Решите задачу регрессии, используя [RandomForestRegressor](https://scikit-learn.org/stable/modules/generated/sklearn.ensemble.RandomForestRegressor.html).\n",
        "\n",
        "* Для выполнения данного задания можете использовать **любой датасет**\n",
        "\n"
      ]
    },
    {
      "cell_type": "markdown",
      "metadata": {},
      "source": [
        "Использованный датасет: https://www.kaggle.com/datasets/nsrose7224/crowdedness-at-the-campus-gym\n",
        "\n",
        "Цель - предсказать загруженность спортзала по предоставленным данным"
      ]
    },
    {
      "cell_type": "code",
      "execution_count": 507,
      "metadata": {
        "id": "3fZ51f1rwUQI"
      },
      "outputs": [],
      "source": [
        "import numpy as np\n",
        "import pandas as pd\n",
        "\n",
        "from sklearn.ensemble import RandomForestRegressor\n",
        "from sklearn.model_selection import train_test_split\n",
        "from sklearn.preprocessing import StandardScaler\n",
        "\n",
        "import matplotlib.pyplot as plt"
      ]
    },
    {
      "cell_type": "markdown",
      "metadata": {},
      "source": [
        "# Load data"
      ]
    },
    {
      "cell_type": "code",
      "execution_count": 500,
      "metadata": {},
      "outputs": [],
      "source": [
        "df = pd.read_csv(\"../../data/crowdness_at_campus_gym/data.csv\")\n",
        "df = df.drop('date', axis=1)"
      ]
    },
    {
      "cell_type": "code",
      "execution_count": 501,
      "metadata": {},
      "outputs": [
        {
          "name": "stdout",
          "output_type": "stream",
          "text": [
            "<class 'pandas.core.frame.DataFrame'>\n",
            "RangeIndex: 62184 entries, 0 to 62183\n",
            "Data columns (total 10 columns):\n",
            " #   Column                Non-Null Count  Dtype  \n",
            "---  ------                --------------  -----  \n",
            " 0   number_people         62184 non-null  int64  \n",
            " 1   timestamp             62184 non-null  int64  \n",
            " 2   day_of_week           62184 non-null  int64  \n",
            " 3   is_weekend            62184 non-null  int64  \n",
            " 4   is_holiday            62184 non-null  int64  \n",
            " 5   temperature           62184 non-null  float64\n",
            " 6   is_start_of_semester  62184 non-null  int64  \n",
            " 7   is_during_semester    62184 non-null  int64  \n",
            " 8   month                 62184 non-null  int64  \n",
            " 9   hour                  62184 non-null  int64  \n",
            "dtypes: float64(1), int64(9)\n",
            "memory usage: 4.7 MB\n"
          ]
        }
      ],
      "source": [
        "df.info()"
      ]
    },
    {
      "cell_type": "markdown",
      "metadata": {},
      "source": [
        "# Feature engineering"
      ]
    },
    {
      "cell_type": "markdown",
      "metadata": {},
      "source": [
        "Используем one-hot-encoding для дней недели"
      ]
    },
    {
      "cell_type": "code",
      "execution_count": 502,
      "metadata": {},
      "outputs": [
        {
          "data": {
            "text/html": [
              "<div>\n",
              "<style scoped>\n",
              "    .dataframe tbody tr th:only-of-type {\n",
              "        vertical-align: middle;\n",
              "    }\n",
              "\n",
              "    .dataframe tbody tr th {\n",
              "        vertical-align: top;\n",
              "    }\n",
              "\n",
              "    .dataframe thead th {\n",
              "        text-align: right;\n",
              "    }\n",
              "</style>\n",
              "<table border=\"1\" class=\"dataframe\">\n",
              "  <thead>\n",
              "    <tr style=\"text-align: right;\">\n",
              "      <th></th>\n",
              "      <th>number_people</th>\n",
              "      <th>timestamp</th>\n",
              "      <th>is_weekend</th>\n",
              "      <th>is_holiday</th>\n",
              "      <th>temperature</th>\n",
              "      <th>is_start_of_semester</th>\n",
              "      <th>is_during_semester</th>\n",
              "      <th>day_of_week_0</th>\n",
              "      <th>day_of_week_1</th>\n",
              "      <th>day_of_week_2</th>\n",
              "      <th>...</th>\n",
              "      <th>hour_14</th>\n",
              "      <th>hour_15</th>\n",
              "      <th>hour_16</th>\n",
              "      <th>hour_17</th>\n",
              "      <th>hour_18</th>\n",
              "      <th>hour_19</th>\n",
              "      <th>hour_20</th>\n",
              "      <th>hour_21</th>\n",
              "      <th>hour_22</th>\n",
              "      <th>hour_23</th>\n",
              "    </tr>\n",
              "  </thead>\n",
              "  <tbody>\n",
              "    <tr>\n",
              "      <th>0</th>\n",
              "      <td>37</td>\n",
              "      <td>61211</td>\n",
              "      <td>0</td>\n",
              "      <td>0</td>\n",
              "      <td>71.76</td>\n",
              "      <td>0</td>\n",
              "      <td>0</td>\n",
              "      <td>False</td>\n",
              "      <td>False</td>\n",
              "      <td>False</td>\n",
              "      <td>...</td>\n",
              "      <td>False</td>\n",
              "      <td>False</td>\n",
              "      <td>False</td>\n",
              "      <td>True</td>\n",
              "      <td>False</td>\n",
              "      <td>False</td>\n",
              "      <td>False</td>\n",
              "      <td>False</td>\n",
              "      <td>False</td>\n",
              "      <td>False</td>\n",
              "    </tr>\n",
              "    <tr>\n",
              "      <th>1</th>\n",
              "      <td>45</td>\n",
              "      <td>62414</td>\n",
              "      <td>0</td>\n",
              "      <td>0</td>\n",
              "      <td>71.76</td>\n",
              "      <td>0</td>\n",
              "      <td>0</td>\n",
              "      <td>False</td>\n",
              "      <td>False</td>\n",
              "      <td>False</td>\n",
              "      <td>...</td>\n",
              "      <td>False</td>\n",
              "      <td>False</td>\n",
              "      <td>False</td>\n",
              "      <td>True</td>\n",
              "      <td>False</td>\n",
              "      <td>False</td>\n",
              "      <td>False</td>\n",
              "      <td>False</td>\n",
              "      <td>False</td>\n",
              "      <td>False</td>\n",
              "    </tr>\n",
              "    <tr>\n",
              "      <th>2</th>\n",
              "      <td>40</td>\n",
              "      <td>63015</td>\n",
              "      <td>0</td>\n",
              "      <td>0</td>\n",
              "      <td>71.76</td>\n",
              "      <td>0</td>\n",
              "      <td>0</td>\n",
              "      <td>False</td>\n",
              "      <td>False</td>\n",
              "      <td>False</td>\n",
              "      <td>...</td>\n",
              "      <td>False</td>\n",
              "      <td>False</td>\n",
              "      <td>False</td>\n",
              "      <td>True</td>\n",
              "      <td>False</td>\n",
              "      <td>False</td>\n",
              "      <td>False</td>\n",
              "      <td>False</td>\n",
              "      <td>False</td>\n",
              "      <td>False</td>\n",
              "    </tr>\n",
              "    <tr>\n",
              "      <th>3</th>\n",
              "      <td>44</td>\n",
              "      <td>63616</td>\n",
              "      <td>0</td>\n",
              "      <td>0</td>\n",
              "      <td>71.76</td>\n",
              "      <td>0</td>\n",
              "      <td>0</td>\n",
              "      <td>False</td>\n",
              "      <td>False</td>\n",
              "      <td>False</td>\n",
              "      <td>...</td>\n",
              "      <td>False</td>\n",
              "      <td>False</td>\n",
              "      <td>False</td>\n",
              "      <td>True</td>\n",
              "      <td>False</td>\n",
              "      <td>False</td>\n",
              "      <td>False</td>\n",
              "      <td>False</td>\n",
              "      <td>False</td>\n",
              "      <td>False</td>\n",
              "    </tr>\n",
              "    <tr>\n",
              "      <th>4</th>\n",
              "      <td>45</td>\n",
              "      <td>64217</td>\n",
              "      <td>0</td>\n",
              "      <td>0</td>\n",
              "      <td>71.76</td>\n",
              "      <td>0</td>\n",
              "      <td>0</td>\n",
              "      <td>False</td>\n",
              "      <td>False</td>\n",
              "      <td>False</td>\n",
              "      <td>...</td>\n",
              "      <td>False</td>\n",
              "      <td>False</td>\n",
              "      <td>False</td>\n",
              "      <td>True</td>\n",
              "      <td>False</td>\n",
              "      <td>False</td>\n",
              "      <td>False</td>\n",
              "      <td>False</td>\n",
              "      <td>False</td>\n",
              "      <td>False</td>\n",
              "    </tr>\n",
              "  </tbody>\n",
              "</table>\n",
              "<p>5 rows × 50 columns</p>\n",
              "</div>"
            ],
            "text/plain": [
              "   number_people  timestamp  is_weekend  is_holiday  temperature  \\\n",
              "0             37      61211           0           0        71.76   \n",
              "1             45      62414           0           0        71.76   \n",
              "2             40      63015           0           0        71.76   \n",
              "3             44      63616           0           0        71.76   \n",
              "4             45      64217           0           0        71.76   \n",
              "\n",
              "   is_start_of_semester  is_during_semester  day_of_week_0  day_of_week_1  \\\n",
              "0                     0                   0          False          False   \n",
              "1                     0                   0          False          False   \n",
              "2                     0                   0          False          False   \n",
              "3                     0                   0          False          False   \n",
              "4                     0                   0          False          False   \n",
              "\n",
              "   day_of_week_2  ...  hour_14  hour_15  hour_16  hour_17  hour_18  hour_19  \\\n",
              "0          False  ...    False    False    False     True    False    False   \n",
              "1          False  ...    False    False    False     True    False    False   \n",
              "2          False  ...    False    False    False     True    False    False   \n",
              "3          False  ...    False    False    False     True    False    False   \n",
              "4          False  ...    False    False    False     True    False    False   \n",
              "\n",
              "   hour_20  hour_21  hour_22  hour_23  \n",
              "0    False    False    False    False  \n",
              "1    False    False    False    False  \n",
              "2    False    False    False    False  \n",
              "3    False    False    False    False  \n",
              "4    False    False    False    False  \n",
              "\n",
              "[5 rows x 50 columns]"
            ]
          },
          "execution_count": 502,
          "metadata": {},
          "output_type": "execute_result"
        }
      ],
      "source": [
        "columns = [\"day_of_week\", \"month\", \"hour\"]\n",
        "df = pd.get_dummies(df, columns=columns)\n",
        "df.head(5)"
      ]
    },
    {
      "cell_type": "code",
      "execution_count": 503,
      "metadata": {},
      "outputs": [],
      "source": [
        "data = df.values\n",
        "\n",
        "# В первой колонке находятся целевые значения\n",
        "X = data[:, 1:]\n",
        "y = data[:, 0]\n",
        "\n",
        "X_train, X_test, y_train, y_test = train_test_split(X, y, test_size=0.25, random_state=42)"
      ]
    },
    {
      "cell_type": "code",
      "execution_count": 504,
      "metadata": {},
      "outputs": [],
      "source": [
        "scaler = StandardScaler()\n",
        "scaler.fit(X_train)\n",
        "X_train = scaler.transform(X_train)\n",
        "X_test = scaler.transform(X_test)"
      ]
    },
    {
      "cell_type": "markdown",
      "metadata": {},
      "source": [
        "# Training"
      ]
    },
    {
      "cell_type": "code",
      "execution_count": 505,
      "metadata": {},
      "outputs": [],
      "source": [
        "model = RandomForestRegressor(n_jobs=-1)"
      ]
    },
    {
      "cell_type": "code",
      "execution_count": 506,
      "metadata": {},
      "outputs": [
        {
          "data": {
            "text/plain": [
              "[<matplotlib.lines.Line2D at 0x7f930238aa10>]"
            ]
          },
          "execution_count": 506,
          "metadata": {},
          "output_type": "execute_result"
        },
        {
          "data": {
            "image/png": "[encoded data removed]",
            "text/plain": [
              "<Figure size 640x480 with 1 Axes>"
            ]
          },
          "metadata": {},
          "output_type": "display_data"
        }
      ],
      "source": [
        "# Переберем различные значения n_estimators\n",
        "estimators = np.arange(10, 200, 10)\n",
        "scores = []\n",
        "for n in estimators:\n",
        "    model.set_params(n_estimators=n)\n",
        "    model.fit(X_train, y_train)\n",
        "    scores.append(model.score(X_test, y_test))\n",
        "plt.title(\"Effect of n_estimators\")\n",
        "plt.xlabel(\"n_estimator\")\n",
        "plt.ylabel(\"score\")\n",
        "plt.plot(estimators, scores)"
      ]
    }
  ],
  "metadata": {
    "colab": {
      "include_colab_link": true,
      "provenance": []
    },
    "kernelspec": {
      "display_name": "Python 3",
      "language": "python",
      "name": "python3"
    },
    "language_info": {
      "codemirror_mode": {
        "name": "ipython",
        "version": 3
      },
      "file_extension": ".py",
      "mimetype": "text/x-python",
      "name": "python",
      "nbconvert_exporter": "python",
      "pygments_lexer": "ipython3",
      "version": "3.11.5"
    }
  },
  "nbformat": 4,
  "nbformat_minor": 0
}
